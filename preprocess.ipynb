{
 "cells": [
  {
   "cell_type": "code",
   "execution_count": null,
   "id": "4AZmJ6jfWEN4",
   "metadata": {
    "colab": {
     "base_uri": "https://localhost:8080/"
    },
    "executionInfo": {
     "elapsed": 16459,
     "status": "ok",
     "timestamp": 1670614891687,
     "user": {
      "displayName": "Mert Karabacak",
      "userId": "14308977132914475412"
     },
     "user_tz": 300
    },
    "id": "4AZmJ6jfWEN4",
    "outputId": "b2ab7bfb-29fb-4b6e-9ecf-4c9c4fb57a31"
   },
   "outputs": [],
   "source": [
    "from google.colab import drive\n",
    "drive.mount('/content/drive')"
   ]
  },
  {
   "cell_type": "code",
   "execution_count": null,
   "id": "45bff18b",
   "metadata": {
    "id": "45bff18b"
   },
   "outputs": [],
   "source": [
    "import numpy as np\n",
    "import pandas as pd\n",
    "from pandas.api.types import CategoricalDtype\n",
    "\n",
    "from sklearn.preprocessing import OneHotEncoder\n",
    "from sklearn.preprocessing import LabelEncoder\n",
    "from sklearn.preprocessing import RobustScaler\n",
    "from sklearn.preprocessing import MinMaxScaler\n",
    "from sklearn.impute import KNNImputer\n",
    "\n",
    "from matplotlib import pyplot as plt\n",
    "\n",
    "pd.set_option('display.max_rows', None)"
   ]
  },
  {
   "cell_type": "code",
   "execution_count": null,
   "id": "721c822b",
   "metadata": {
    "colab": {
     "base_uri": "https://localhost:8080/",
     "height": 681
    },
    "executionInfo": {
     "elapsed": 594,
     "status": "ok",
     "timestamp": 1670614893859,
     "user": {
      "displayName": "Mert Karabacak",
      "userId": "14308977132914475412"
     },
     "user_tz": 300
    },
    "id": "721c822b",
    "outputId": "df92cdc5-55b2-47cb-d172-72f03ad9eeb8"
   },
   "outputs": [],
   "source": [
    "#Open csv file.\n",
    "\n",
    "data = pd.read_csv(\"/content/drive/MyDrive/NSQIP-ACC/acc_combined.csv\", index_col=0, na_values = -99)\n",
    "data.head()"
   ]
  },
  {
   "cell_type": "code",
   "execution_count": null,
   "id": "2ddf793b",
   "metadata": {
    "colab": {
     "base_uri": "https://localhost:8080/"
    },
    "executionInfo": {
     "elapsed": 11,
     "status": "ok",
     "timestamp": 1670614893860,
     "user": {
      "displayName": "Mert Karabacak",
      "userId": "14308977132914475412"
     },
     "user_tz": 300
    },
    "id": "2ddf793b",
    "outputId": "11f1a849-c8a2-45b2-93e6-cc6f51a704a7"
   },
   "outputs": [],
   "source": [
    "#See all columns.\n",
    "\n",
    "print(list(data.columns))"
   ]
  },
  {
   "cell_type": "code",
   "execution_count": null,
   "id": "6b72f120",
   "metadata": {
    "colab": {
     "base_uri": "https://localhost:8080/"
    },
    "executionInfo": {
     "elapsed": 8,
     "status": "ok",
     "timestamp": 1670614893860,
     "user": {
      "displayName": "Mert Karabacak",
      "userId": "14308977132914475412"
     },
     "user_tz": 300
    },
    "id": "6b72f120",
    "outputId": "04c22e36-e38d-4e3e-8819-66b9226364f3"
   },
   "outputs": [],
   "source": [
    "#Check data shape.\n",
    "\n",
    "data.shape"
   ]
  },
  {
   "cell_type": "code",
   "execution_count": null,
   "id": "a143c94a",
   "metadata": {
    "id": "a143c94a"
   },
   "outputs": [],
   "source": [
    "#Define variables of interest (predictor variables, inclusion/exclusion criteria, outcomes of interest).\n",
    "\n",
    "variables = ['SEX', 'RACE_NEW', 'ETHNICITY_HISPANIC', 'CPT', 'INOUT', 'TRANST', 'AGE', 'DISCHDEST', 'ANESTHES', 'SURGSPEC', 'ELECTSURG', 'HEIGHT', 'WEIGHT', 'DIABETES', 'SMOKE', 'DYSPNEA', 'FNSTATUS2', 'VENTILAT', 'HXCOPD', 'ASCITES', 'HXCHF', 'HYPERMED', 'RENAFAIL', 'DIALYSIS', 'DISCANCR', 'WNDINF', 'STEROID', 'WTLOSS', 'BLEEDDIS', 'TRANSFUS', 'PRSEPIS', 'PRSODM', 'PRBUN', 'PRCREAT', 'PRALBUM', 'PRBILI', 'PRSGOT', 'PRALKPH', 'PRWBC', 'PRHCT', 'PRPLATE', 'PRPTT', 'PRINR', 'PRPT', 'OTHERCPT1', 'OTHERCPT2', 'OTHERCPT3', 'OTHERCPT4', 'OTHERCPT5', 'OTHERCPT6', 'OTHERCPT7', 'OTHERCPT8', 'OTHERCPT9', 'OTHERCPT10', 'CONCPT1', 'CONCPT2', 'CONCPT3', 'CONCPT4', 'CONCPT5', 'CONCPT6', 'CONCPT7', 'CONCPT8', 'CONCPT9', 'CONCPT10', 'EMERGNCY', 'WNDCLAS', 'ASACLAS', 'OPTIME', 'TOTHLOS', 'HTOODAY', 'NSUPINFEC', 'NWNDINFD', 'NORGSPCSSI', 'NDEHIS', 'NOUPNEUMO', 'NREINTUB', 'NPULEMBOL', 'NFAILWEAN', 'NRENAINSF', 'NOPRENAFL', 'NURNINFEC', 'NCNSCVA', 'NCDARREST', 'NCDMI', 'NOTHBLEED', 'NOTHDVT', 'NOTHSYSEP', 'NOTHSESHOCK', 'PODIAG', 'PODIAG10', 'STILLINHOSP', 'READMISSION1']"
   ]
  },
  {
   "cell_type": "code",
   "execution_count": null,
   "id": "a21a408c",
   "metadata": {
    "colab": {
     "base_uri": "https://localhost:8080/"
    },
    "executionInfo": {
     "elapsed": 5,
     "status": "ok",
     "timestamp": 1670614893860,
     "user": {
      "displayName": "Mert Karabacak",
      "userId": "14308977132914475412"
     },
     "user_tz": 300
    },
    "id": "a21a408c",
    "outputId": "31e04500-fde1-4283-aa64-7360ffb522f3"
   },
   "outputs": [],
   "source": [
    "#Remove unwanted columns and check data shape.\n",
    "\n",
    "data = data[variables]\n",
    "\n",
    "data.shape"
   ]
  },
  {
   "cell_type": "code",
   "execution_count": null,
   "id": "lrQkyLFr3jcd",
   "metadata": {
    "colab": {
     "base_uri": "https://localhost:8080/"
    },
    "executionInfo": {
     "elapsed": 869,
     "status": "ok",
     "timestamp": 1670614894845,
     "user": {
      "displayName": "Mert Karabacak",
      "userId": "14308977132914475412"
     },
     "user_tz": 300
    },
    "id": "lrQkyLFr3jcd",
    "outputId": "57f974dd-6527-4e0a-af38-e56de82e8cb6"
   },
   "outputs": [],
   "source": [
    "#Define the CPT to codes to exclude (other cervical procedures, thoracic and/or lumbar fusion, revision, intraspinal lesion).\n",
    "\n",
    "data.loc[data['CPT'] == 22551, 'CPT_EX'] = 'Yes'\n",
    "data.loc[data['CPT'] == 22552, 'CPT_EX'] = 'Yes'\n",
    "data.loc[data['CPT'] == 22590, 'CPT_EX'] = 'Yes'\n",
    "data.loc[data['CPT'] == 22595, 'CPT_EX'] = 'Yes'\n",
    "data.loc[data['CPT'] == 22600, 'CPT_EX'] = 'Yes'\n",
    "data.loc[data['CPT'] == 22856, 'CPT_EX'] = 'Yes'\n",
    "data.loc[data['CPT'] == 22858, 'CPT_EX'] = 'Yes'\n",
    "data.loc[data['CPT'] == 63015, 'CPT_EX'] = 'Yes'\n",
    "data.loc[data['CPT'] == 63020, 'CPT_EX'] = 'Yes'\n",
    "data.loc[data['CPT'] == 63040, 'CPT_EX'] = 'Yes'\n",
    "data.loc[data['CPT'] == 63045, 'CPT_EX'] = 'Yes'\n",
    "data.loc[data['CPT'] == 63050, 'CPT_EX'] = 'Yes'\n",
    "data.loc[data['CPT'] == 63051, 'CPT_EX'] = 'Yes'\n",
    "data.loc[data['CPT'] == 22556, 'CPT_EX'] = 'Yes'\n",
    "data.loc[data['CPT'] == 22558, 'CPT_EX'] = 'Yes'\n",
    "data.loc[data['CPT'] == 22610, 'CPT_EX'] = 'Yes'\n",
    "data.loc[data['CPT'] == 22612, 'CPT_EX'] = 'Yes'\n",
    "data.loc[data['CPT'] == 22632, 'CPT_EX'] = 'Yes'\n",
    "data.loc[data['CPT'] == 22633, 'CPT_EX'] = 'Yes'\n",
    "data.loc[data['CPT'] == 22634, 'CPT_EX'] = 'Yes'\n",
    "data.loc[data['CPT'] == 22830, 'CPT_EX'] = 'Yes'\n",
    "data.loc[data['CPT'] == 22849, 'CPT_EX'] = 'Yes'\n",
    "data.loc[data['CPT'] == 22850, 'CPT_EX'] = 'Yes'\n",
    "data.loc[data['CPT'] == 22852, 'CPT_EX'] = 'Yes'\n",
    "data.loc[data['CPT'] == 22855, 'CPT_EX'] = 'Yes'\n",
    "data.loc[data['CPT'] == 22861, 'CPT_EX'] = 'Yes'\n",
    "data.loc[data['CPT'] == 22864, 'CPT_EX'] = 'Yes'\n",
    "data.loc[data['CPT'] == 63300, 'CPT_EX'] = 'Yes'\n",
    "data.loc[data['CPT'] == 63301, 'CPT_EX'] = 'Yes'\n",
    "data.loc[data['CPT'] == 63304, 'CPT_EX'] = 'Yes'\n",
    "data.loc[data['CPT'] == 63308, 'CPT_EX'] = 'Yes'\n",
    "\n",
    "data.loc[data['CONCPT1'] == 22551, 'CPT_EX'] = 'Yes'\n",
    "data.loc[data['CONCPT1'] == 22552, 'CPT_EX'] = 'Yes'\n",
    "data.loc[data['CONCPT1'] == 22590, 'CPT_EX'] = 'Yes'\n",
    "data.loc[data['CONCPT1'] == 22595, 'CPT_EX'] = 'Yes'\n",
    "data.loc[data['CONCPT1'] == 22600, 'CPT_EX'] = 'Yes'\n",
    "data.loc[data['CONCPT1'] == 22856, 'CPT_EX'] = 'Yes'\n",
    "data.loc[data['CONCPT1'] == 22858, 'CPT_EX'] = 'Yes'\n",
    "data.loc[data['CONCPT1'] == 63015, 'CPT_EX'] = 'Yes'\n",
    "data.loc[data['CONCPT1'] == 63020, 'CPT_EX'] = 'Yes'\n",
    "data.loc[data['CONCPT1'] == 63040, 'CPT_EX'] = 'Yes'\n",
    "data.loc[data['CONCPT1'] == 63045, 'CPT_EX'] = 'Yes'\n",
    "data.loc[data['CONCPT1'] == 63050, 'CPT_EX'] = 'Yes'\n",
    "data.loc[data['CONCPT1'] == 63051, 'CPT_EX'] = 'Yes'\n",
    "data.loc[data['CONCPT1'] == 22556, 'CPT_EX'] = 'Yes'\n",
    "data.loc[data['CONCPT1'] == 22558, 'CPT_EX'] = 'Yes'\n",
    "data.loc[data['CONCPT1'] == 22610, 'CPT_EX'] = 'Yes'\n",
    "data.loc[data['CONCPT1'] == 22612, 'CPT_EX'] = 'Yes'\n",
    "data.loc[data['CONCPT1'] == 22632, 'CPT_EX'] = 'Yes'\n",
    "data.loc[data['CONCPT1'] == 22633, 'CPT_EX'] = 'Yes'\n",
    "data.loc[data['CONCPT1'] == 22634, 'CPT_EX'] = 'Yes'\n",
    "data.loc[data['CONCPT1'] == 22830, 'CPT_EX'] = 'Yes'\n",
    "data.loc[data['CONCPT1'] == 22849, 'CPT_EX'] = 'Yes'\n",
    "data.loc[data['CONCPT1'] == 22850, 'CPT_EX'] = 'Yes'\n",
    "data.loc[data['CONCPT1'] == 22852, 'CPT_EX'] = 'Yes'\n",
    "data.loc[data['CONCPT1'] == 22855, 'CPT_EX'] = 'Yes'\n",
    "data.loc[data['CONCPT1'] == 22861, 'CPT_EX'] = 'Yes'\n",
    "data.loc[data['CONCPT1'] == 22864, 'CPT_EX'] = 'Yes'\n",
    "data.loc[data['CONCPT1'] == 63300, 'CPT_EX'] = 'Yes'\n",
    "data.loc[data['CONCPT1'] == 63301, 'CPT_EX'] = 'Yes'\n",
    "data.loc[data['CONCPT1'] == 63304, 'CPT_EX'] = 'Yes'\n",
    "data.loc[data['CONCPT1'] == 63308, 'CPT_EX'] = 'Yes'\n",
    "\n",
    "data.loc[data['CONCPT2'] == 22551, 'CPT_EX'] = 'Yes'\n",
    "data.loc[data['CONCPT2'] == 22552, 'CPT_EX'] = 'Yes'\n",
    "data.loc[data['CONCPT2'] == 22590, 'CPT_EX'] = 'Yes'\n",
    "data.loc[data['CONCPT2'] == 22595, 'CPT_EX'] = 'Yes'\n",
    "data.loc[data['CONCPT2'] == 22858, 'CPT_EX'] = 'Yes'\n",
    "data.loc[data['CONCPT2'] == 22856, 'CPT_EX'] = 'Yes'\n",
    "data.loc[data['CONCPT2'] == 22600, 'CPT_EX'] = 'Yes'\n",
    "data.loc[data['CONCPT2'] == 63015, 'CPT_EX'] = 'Yes'\n",
    "data.loc[data['CONCPT2'] == 63020, 'CPT_EX'] = 'Yes'\n",
    "data.loc[data['CONCPT2'] == 63040, 'CPT_EX'] = 'Yes'\n",
    "data.loc[data['CONCPT2'] == 63045, 'CPT_EX'] = 'Yes'\n",
    "data.loc[data['CONCPT2'] == 63050, 'CPT_EX'] = 'Yes'\n",
    "data.loc[data['CONCPT2'] == 63051, 'CPT_EX'] = 'Yes'\n",
    "data.loc[data['CONCPT2'] == 63081, 'CPT_EX'] = 'Yes'\n",
    "data.loc[data['CONCPT2'] == 22556, 'CPT_EX'] = 'Yes'\n",
    "data.loc[data['CONCPT2'] == 22558, 'CPT_EX'] = 'Yes'\n",
    "data.loc[data['CONCPT2'] == 22610, 'CPT_EX'] = 'Yes'\n",
    "data.loc[data['CONCPT2'] == 22612, 'CPT_EX'] = 'Yes'\n",
    "data.loc[data['CONCPT2'] == 22632, 'CPT_EX'] = 'Yes'\n",
    "data.loc[data['CONCPT2'] == 22633, 'CPT_EX'] = 'Yes'\n",
    "data.loc[data['CONCPT2'] == 22634, 'CPT_EX'] = 'Yes'\n",
    "data.loc[data['CONCPT2'] == 22830, 'CPT_EX'] = 'Yes'\n",
    "data.loc[data['CONCPT2'] == 22849, 'CPT_EX'] = 'Yes'\n",
    "data.loc[data['CONCPT2'] == 22850, 'CPT_EX'] = 'Yes'\n",
    "data.loc[data['CONCPT2'] == 22852, 'CPT_EX'] = 'Yes'\n",
    "data.loc[data['CONCPT2'] == 22855, 'CPT_EX'] = 'Yes'\n",
    "data.loc[data['CONCPT2'] == 22861, 'CPT_EX'] = 'Yes'\n",
    "data.loc[data['CONCPT2'] == 22864, 'CPT_EX'] = 'Yes'\n",
    "data.loc[data['CONCPT2'] == 63300, 'CPT_EX'] = 'Yes'\n",
    "data.loc[data['CONCPT2'] == 63301, 'CPT_EX'] = 'Yes'\n",
    "data.loc[data['CONCPT2'] == 63304, 'CPT_EX'] = 'Yes'\n",
    "data.loc[data['CONCPT2'] == 63308, 'CPT_EX'] = 'Yes'\n",
    "\n",
    "data.loc[data['CONCPT3'] == 22551, 'CPT_EX'] = 'Yes'\n",
    "data.loc[data['CONCPT3'] == 22552, 'CPT_EX'] = 'Yes'\n",
    "data.loc[data['CONCPT3'] == 22590, 'CPT_EX'] = 'Yes'\n",
    "data.loc[data['CONCPT3'] == 22595, 'CPT_EX'] = 'Yes'\n",
    "data.loc[data['CONCPT3'] == 22600, 'CPT_EX'] = 'Yes'\n",
    "data.loc[data['CONCPT3'] == 22856, 'CPT_EX'] = 'Yes'\n",
    "data.loc[data['CONCPT3'] == 22858, 'CPT_EX'] = 'Yes'\n",
    "data.loc[data['CONCPT3'] == 63015, 'CPT_EX'] = 'Yes'\n",
    "data.loc[data['CONCPT3'] == 63020, 'CPT_EX'] = 'Yes'\n",
    "data.loc[data['CONCPT3'] == 63040, 'CPT_EX'] = 'Yes'\n",
    "data.loc[data['CONCPT3'] == 63045, 'CPT_EX'] = 'Yes'\n",
    "data.loc[data['CONCPT3'] == 63050, 'CPT_EX'] = 'Yes'\n",
    "data.loc[data['CONCPT3'] == 63051, 'CPT_EX'] = 'Yes'\n",
    "data.loc[data['CONCPT3'] == 22556, 'CPT_EX'] = 'Yes'\n",
    "data.loc[data['CONCPT3'] == 22558, 'CPT_EX'] = 'Yes'\n",
    "data.loc[data['CONCPT3'] == 22610, 'CPT_EX'] = 'Yes'\n",
    "data.loc[data['CONCPT3'] == 22612, 'CPT_EX'] = 'Yes'\n",
    "data.loc[data['CONCPT3'] == 22632, 'CPT_EX'] = 'Yes'\n",
    "data.loc[data['CONCPT3'] == 22633, 'CPT_EX'] = 'Yes'\n",
    "data.loc[data['CONCPT3'] == 22634, 'CPT_EX'] = 'Yes'\n",
    "data.loc[data['CONCPT3'] == 22830, 'CPT_EX'] = 'Yes'\n",
    "data.loc[data['CONCPT3'] == 22849, 'CPT_EX'] = 'Yes'\n",
    "data.loc[data['CONCPT3'] == 22850, 'CPT_EX'] = 'Yes'\n",
    "data.loc[data['CONCPT3'] == 22852, 'CPT_EX'] = 'Yes'\n",
    "data.loc[data['CONCPT3'] == 22855, 'CPT_EX'] = 'Yes'\n",
    "data.loc[data['CONCPT3'] == 22861, 'CPT_EX'] = 'Yes'\n",
    "data.loc[data['CONCPT3'] == 22864, 'CPT_EX'] = 'Yes'\n",
    "data.loc[data['CONCPT3'] == 63300, 'CPT_EX'] = 'Yes'\n",
    "data.loc[data['CONCPT3'] == 63301, 'CPT_EX'] = 'Yes'\n",
    "data.loc[data['CONCPT3'] == 63304, 'CPT_EX'] = 'Yes'\n",
    "data.loc[data['CONCPT3'] == 63308, 'CPT_EX'] = 'Yes'\n",
    "\n",
    "data.loc[data['CONCPT4'] == 22551, 'CPT_EX'] = 'Yes'\n",
    "data.loc[data['CONCPT4'] == 22552, 'CPT_EX'] = 'Yes'\n",
    "data.loc[data['CONCPT4'] == 22590, 'CPT_EX'] = 'Yes'\n",
    "data.loc[data['CONCPT4'] == 22595, 'CPT_EX'] = 'Yes'\n",
    "data.loc[data['CONCPT4'] == 22600, 'CPT_EX'] = 'Yes'\n",
    "data.loc[data['CONCPT4'] == 22856, 'CPT_EX'] = 'Yes'\n",
    "data.loc[data['CONCPT4'] == 22858, 'CPT_EX'] = 'Yes'\n",
    "data.loc[data['CONCPT4'] == 63015, 'CPT_EX'] = 'Yes'\n",
    "data.loc[data['CONCPT4'] == 63020, 'CPT_EX'] = 'Yes'\n",
    "data.loc[data['CONCPT4'] == 63040, 'CPT_EX'] = 'Yes'\n",
    "data.loc[data['CONCPT4'] == 63045, 'CPT_EX'] = 'Yes'\n",
    "data.loc[data['CONCPT4'] == 63050, 'CPT_EX'] = 'Yes'\n",
    "data.loc[data['CONCPT4'] == 63051, 'CPT_EX'] = 'Yes'\n",
    "data.loc[data['CONCPT4'] == 22556, 'CPT_EX'] = 'Yes'\n",
    "data.loc[data['CONCPT4'] == 22558, 'CPT_EX'] = 'Yes'\n",
    "data.loc[data['CONCPT4'] == 22610, 'CPT_EX'] = 'Yes'\n",
    "data.loc[data['CONCPT4'] == 22612, 'CPT_EX'] = 'Yes'\n",
    "data.loc[data['CONCPT4'] == 22632, 'CPT_EX'] = 'Yes'\n",
    "data.loc[data['CONCPT4'] == 22633, 'CPT_EX'] = 'Yes'\n",
    "data.loc[data['CONCPT4'] == 22634, 'CPT_EX'] = 'Yes'\n",
    "data.loc[data['CONCPT4'] == 22830, 'CPT_EX'] = 'Yes'\n",
    "data.loc[data['CONCPT4'] == 22849, 'CPT_EX'] = 'Yes'\n",
    "data.loc[data['CONCPT4'] == 22850, 'CPT_EX'] = 'Yes'\n",
    "data.loc[data['CONCPT4'] == 22852, 'CPT_EX'] = 'Yes'\n",
    "data.loc[data['CONCPT4'] == 22855, 'CPT_EX'] = 'Yes'\n",
    "data.loc[data['CONCPT4'] == 22861, 'CPT_EX'] = 'Yes'\n",
    "data.loc[data['CONCPT4'] == 22864, 'CPT_EX'] = 'Yes'\n",
    "data.loc[data['CONCPT4'] == 63300, 'CPT_EX'] = 'Yes'\n",
    "data.loc[data['CONCPT4'] == 63301, 'CPT_EX'] = 'Yes'\n",
    "data.loc[data['CONCPT4'] == 63304, 'CPT_EX'] = 'Yes'\n",
    "data.loc[data['CONCPT4'] == 63308, 'CPT_EX'] = 'Yes'\n",
    "\n",
    "data.loc[data['CONCPT5'] == 22551, 'CPT_EX'] = 'Yes'\n",
    "data.loc[data['CONCPT5'] == 22552, 'CPT_EX'] = 'Yes'\n",
    "data.loc[data['CONCPT5'] == 22590, 'CPT_EX'] = 'Yes'\n",
    "data.loc[data['CONCPT5'] == 22595, 'CPT_EX'] = 'Yes'\n",
    "data.loc[data['CONCPT5'] == 22600, 'CPT_EX'] = 'Yes'\n",
    "data.loc[data['CONCPT5'] == 22856, 'CPT_EX'] = 'Yes'\n",
    "data.loc[data['CONCPT5'] == 22858, 'CPT_EX'] = 'Yes'\n",
    "data.loc[data['CONCPT5'] == 63015, 'CPT_EX'] = 'Yes'\n",
    "data.loc[data['CONCPT5'] == 63020, 'CPT_EX'] = 'Yes'\n",
    "data.loc[data['CONCPT5'] == 63040, 'CPT_EX'] = 'Yes'\n",
    "data.loc[data['CONCPT5'] == 63045, 'CPT_EX'] = 'Yes'\n",
    "data.loc[data['CONCPT5'] == 63050, 'CPT_EX'] = 'Yes'\n",
    "data.loc[data['CONCPT5'] == 63051, 'CPT_EX'] = 'Yes'\n",
    "data.loc[data['CONCPT5'] == 22556, 'CPT_EX'] = 'Yes'\n",
    "data.loc[data['CONCPT5'] == 22558, 'CPT_EX'] = 'Yes'\n",
    "data.loc[data['CONCPT5'] == 22610, 'CPT_EX'] = 'Yes'\n",
    "data.loc[data['CONCPT5'] == 22612, 'CPT_EX'] = 'Yes'\n",
    "data.loc[data['CONCPT5'] == 22632, 'CPT_EX'] = 'Yes'\n",
    "data.loc[data['CONCPT5'] == 22633, 'CPT_EX'] = 'Yes'\n",
    "data.loc[data['CONCPT5'] == 22634, 'CPT_EX'] = 'Yes'\n",
    "data.loc[data['CONCPT5'] == 22830, 'CPT_EX'] = 'Yes'\n",
    "data.loc[data['CONCPT5'] == 22849, 'CPT_EX'] = 'Yes'\n",
    "data.loc[data['CONCPT5'] == 22850, 'CPT_EX'] = 'Yes'\n",
    "data.loc[data['CONCPT5'] == 22852, 'CPT_EX'] = 'Yes'\n",
    "data.loc[data['CONCPT5'] == 22855, 'CPT_EX'] = 'Yes'\n",
    "data.loc[data['CONCPT5'] == 22861, 'CPT_EX'] = 'Yes'\n",
    "data.loc[data['CONCPT5'] == 22864, 'CPT_EX'] = 'Yes'\n",
    "data.loc[data['CONCPT5'] == 63300, 'CPT_EX'] = 'Yes'\n",
    "data.loc[data['CONCPT5'] == 63301, 'CPT_EX'] = 'Yes'\n",
    "data.loc[data['CONCPT5'] == 63304, 'CPT_EX'] = 'Yes'\n",
    "data.loc[data['CONCPT5'] == 63308, 'CPT_EX'] = 'Yes'\n",
    "\n",
    "data.loc[data['CONCPT6'] == 22551, 'CPT_EX'] = 'Yes'\n",
    "data.loc[data['CONCPT6'] == 22552, 'CPT_EX'] = 'Yes'\n",
    "data.loc[data['CONCPT6'] == 22590, 'CPT_EX'] = 'Yes'\n",
    "data.loc[data['CONCPT6'] == 22595, 'CPT_EX'] = 'Yes'\n",
    "data.loc[data['CONCPT6'] == 22600, 'CPT_EX'] = 'Yes'\n",
    "data.loc[data['CONCPT6'] == 22856, 'CPT_EX'] = 'Yes'\n",
    "data.loc[data['CONCPT6'] == 22858, 'CPT_EX'] = 'Yes'\n",
    "data.loc[data['CONCPT6'] == 63015, 'CPT_EX'] = 'Yes'\n",
    "data.loc[data['CONCPT6'] == 63020, 'CPT_EX'] = 'Yes'\n",
    "data.loc[data['CONCPT6'] == 63040, 'CPT_EX'] = 'Yes'\n",
    "data.loc[data['CONCPT6'] == 63045, 'CPT_EX'] = 'Yes'\n",
    "data.loc[data['CONCPT6'] == 63050, 'CPT_EX'] = 'Yes'\n",
    "data.loc[data['CONCPT6'] == 63051, 'CPT_EX'] = 'Yes'\n",
    "data.loc[data['CONCPT6'] == 22556, 'CPT_EX'] = 'Yes'\n",
    "data.loc[data['CONCPT6'] == 22558, 'CPT_EX'] = 'Yes'\n",
    "data.loc[data['CONCPT6'] == 22610, 'CPT_EX'] = 'Yes'\n",
    "data.loc[data['CONCPT6'] == 22612, 'CPT_EX'] = 'Yes'\n",
    "data.loc[data['CONCPT6'] == 22632, 'CPT_EX'] = 'Yes'\n",
    "data.loc[data['CONCPT6'] == 22633, 'CPT_EX'] = 'Yes'\n",
    "data.loc[data['CONCPT6'] == 22634, 'CPT_EX'] = 'Yes'\n",
    "data.loc[data['CONCPT6'] == 22830, 'CPT_EX'] = 'Yes'\n",
    "data.loc[data['CONCPT6'] == 22849, 'CPT_EX'] = 'Yes'\n",
    "data.loc[data['CONCPT6'] == 22850, 'CPT_EX'] = 'Yes'\n",
    "data.loc[data['CONCPT6'] == 22852, 'CPT_EX'] = 'Yes'\n",
    "data.loc[data['CONCPT6'] == 22855, 'CPT_EX'] = 'Yes'\n",
    "data.loc[data['CONCPT6'] == 22861, 'CPT_EX'] = 'Yes'\n",
    "data.loc[data['CONCPT6'] == 22864, 'CPT_EX'] = 'Yes'\n",
    "data.loc[data['CONCPT6'] == 63300, 'CPT_EX'] = 'Yes'\n",
    "data.loc[data['CONCPT6'] == 63301, 'CPT_EX'] = 'Yes'\n",
    "data.loc[data['CONCPT6'] == 63304, 'CPT_EX'] = 'Yes'\n",
    "data.loc[data['CONCPT6'] == 63308, 'CPT_EX'] = 'Yes'\n",
    "\n",
    "data.loc[data['CONCPT7'] == 22551, 'CPT_EX'] = 'Yes'\n",
    "data.loc[data['CONCPT7'] == 22552, 'CPT_EX'] = 'Yes'\n",
    "data.loc[data['CONCPT7'] == 22590, 'CPT_EX'] = 'Yes'\n",
    "data.loc[data['CONCPT7'] == 22595, 'CPT_EX'] = 'Yes'\n",
    "data.loc[data['CONCPT7'] == 22600, 'CPT_EX'] = 'Yes'\n",
    "data.loc[data['CONCPT7'] == 22856, 'CPT_EX'] = 'Yes'\n",
    "data.loc[data['CONCPT7'] == 22858, 'CPT_EX'] = 'Yes'\n",
    "data.loc[data['CONCPT7'] == 63015, 'CPT_EX'] = 'Yes'\n",
    "data.loc[data['CONCPT7'] == 63020, 'CPT_EX'] = 'Yes'\n",
    "data.loc[data['CONCPT7'] == 63040, 'CPT_EX'] = 'Yes'\n",
    "data.loc[data['CONCPT7'] == 63045, 'CPT_EX'] = 'Yes'\n",
    "data.loc[data['CONCPT7'] == 63050, 'CPT_EX'] = 'Yes'\n",
    "data.loc[data['CONCPT7'] == 63051, 'CPT_EX'] = 'Yes'\n",
    "data.loc[data['CONCPT7'] == 22556, 'CPT_EX'] = 'Yes'\n",
    "data.loc[data['CONCPT7'] == 22558, 'CPT_EX'] = 'Yes'\n",
    "data.loc[data['CONCPT7'] == 22610, 'CPT_EX'] = 'Yes'\n",
    "data.loc[data['CONCPT7'] == 22612, 'CPT_EX'] = 'Yes'\n",
    "data.loc[data['CONCPT7'] == 22632, 'CPT_EX'] = 'Yes'\n",
    "data.loc[data['CONCPT7'] == 22633, 'CPT_EX'] = 'Yes'\n",
    "data.loc[data['CONCPT7'] == 22634, 'CPT_EX'] = 'Yes'\n",
    "data.loc[data['CONCPT7'] == 22830, 'CPT_EX'] = 'Yes'\n",
    "data.loc[data['CONCPT7'] == 22849, 'CPT_EX'] = 'Yes'\n",
    "data.loc[data['CONCPT7'] == 22850, 'CPT_EX'] = 'Yes'\n",
    "data.loc[data['CONCPT7'] == 22852, 'CPT_EX'] = 'Yes'\n",
    "data.loc[data['CONCPT7'] == 22855, 'CPT_EX'] = 'Yes'\n",
    "data.loc[data['CONCPT7'] == 22861, 'CPT_EX'] = 'Yes'\n",
    "data.loc[data['CONCPT7'] == 22864, 'CPT_EX'] = 'Yes'\n",
    "data.loc[data['CONCPT7'] == 63300, 'CPT_EX'] = 'Yes'\n",
    "data.loc[data['CONCPT7'] == 63301, 'CPT_EX'] = 'Yes'\n",
    "data.loc[data['CONCPT7'] == 63304, 'CPT_EX'] = 'Yes'\n",
    "data.loc[data['CONCPT7'] == 63308, 'CPT_EX'] = 'Yes'\n",
    "\n",
    "data.loc[data['CONCPT8'] == 22551, 'CPT_EX'] = 'Yes'\n",
    "data.loc[data['CONCPT8'] == 22552, 'CPT_EX'] = 'Yes'\n",
    "data.loc[data['CONCPT8'] == 22590, 'CPT_EX'] = 'Yes'\n",
    "data.loc[data['CONCPT8'] == 22595, 'CPT_EX'] = 'Yes'\n",
    "data.loc[data['CONCPT8'] == 22600, 'CPT_EX'] = 'Yes'\n",
    "data.loc[data['CONCPT8'] == 22856, 'CPT_EX'] = 'Yes'\n",
    "data.loc[data['CONCPT8'] == 22858, 'CPT_EX'] = 'Yes'\n",
    "data.loc[data['CONCPT8'] == 63015, 'CPT_EX'] = 'Yes'\n",
    "data.loc[data['CONCPT8'] == 63020, 'CPT_EX'] = 'Yes'\n",
    "data.loc[data['CONCPT8'] == 63040, 'CPT_EX'] = 'Yes'\n",
    "data.loc[data['CONCPT8'] == 63045, 'CPT_EX'] = 'Yes'\n",
    "data.loc[data['CONCPT8'] == 63050, 'CPT_EX'] = 'Yes'\n",
    "data.loc[data['CONCPT8'] == 63051, 'CPT_EX'] = 'Yes'\n",
    "data.loc[data['CONCPT8'] == 22556, 'CPT_EX'] = 'Yes'\n",
    "data.loc[data['CONCPT8'] == 22558, 'CPT_EX'] = 'Yes'\n",
    "data.loc[data['CONCPT8'] == 22610, 'CPT_EX'] = 'Yes'\n",
    "data.loc[data['CONCPT8'] == 22612, 'CPT_EX'] = 'Yes'\n",
    "data.loc[data['CONCPT8'] == 22632, 'CPT_EX'] = 'Yes'\n",
    "data.loc[data['CONCPT8'] == 22633, 'CPT_EX'] = 'Yes'\n",
    "data.loc[data['CONCPT8'] == 22634, 'CPT_EX'] = 'Yes'\n",
    "data.loc[data['CONCPT8'] == 22830, 'CPT_EX'] = 'Yes'\n",
    "data.loc[data['CONCPT8'] == 22849, 'CPT_EX'] = 'Yes'\n",
    "data.loc[data['CONCPT8'] == 22850, 'CPT_EX'] = 'Yes'\n",
    "data.loc[data['CONCPT8'] == 22852, 'CPT_EX'] = 'Yes'\n",
    "data.loc[data['CONCPT8'] == 22855, 'CPT_EX'] = 'Yes'\n",
    "data.loc[data['CONCPT8'] == 22861, 'CPT_EX'] = 'Yes'\n",
    "data.loc[data['CONCPT8'] == 22864, 'CPT_EX'] = 'Yes'\n",
    "data.loc[data['CONCPT8'] == 63300, 'CPT_EX'] = 'Yes'\n",
    "data.loc[data['CONCPT8'] == 63301, 'CPT_EX'] = 'Yes'\n",
    "data.loc[data['CONCPT8'] == 63304, 'CPT_EX'] = 'Yes'\n",
    "data.loc[data['CONCPT8'] == 63308, 'CPT_EX'] = 'Yes'\n",
    "\n",
    "data.loc[data['CONCPT9'] == 22551, 'CPT_EX'] = 'Yes'\n",
    "data.loc[data['CONCPT9'] == 22552, 'CPT_EX'] = 'Yes'\n",
    "data.loc[data['CONCPT9'] == 22590, 'CPT_EX'] = 'Yes'\n",
    "data.loc[data['CONCPT9'] == 22595, 'CPT_EX'] = 'Yes'\n",
    "data.loc[data['CONCPT9'] == 22600, 'CPT_EX'] = 'Yes'\n",
    "data.loc[data['CONCPT9'] == 22856, 'CPT_EX'] = 'Yes'\n",
    "data.loc[data['CONCPT9'] == 22858, 'CPT_EX'] = 'Yes'\n",
    "data.loc[data['CONCPT9'] == 63015, 'CPT_EX'] = 'Yes'\n",
    "data.loc[data['CONCPT9'] == 63020, 'CPT_EX'] = 'Yes'\n",
    "data.loc[data['CONCPT9'] == 63040, 'CPT_EX'] = 'Yes'\n",
    "data.loc[data['CONCPT9'] == 63045, 'CPT_EX'] = 'Yes'\n",
    "data.loc[data['CONCPT9'] == 63050, 'CPT_EX'] = 'Yes'\n",
    "data.loc[data['CONCPT9'] == 63051, 'CPT_EX'] = 'Yes'\n",
    "data.loc[data['CONCPT9'] == 22556, 'CPT_EX'] = 'Yes'\n",
    "data.loc[data['CONCPT9'] == 22558, 'CPT_EX'] = 'Yes'\n",
    "data.loc[data['CONCPT9'] == 22610, 'CPT_EX'] = 'Yes'\n",
    "data.loc[data['CONCPT9'] == 22612, 'CPT_EX'] = 'Yes'\n",
    "data.loc[data['CONCPT9'] == 22632, 'CPT_EX'] = 'Yes'\n",
    "data.loc[data['CONCPT9'] == 22633, 'CPT_EX'] = 'Yes'\n",
    "data.loc[data['CONCPT9'] == 22634, 'CPT_EX'] = 'Yes'\n",
    "data.loc[data['CONCPT9'] == 22830, 'CPT_EX'] = 'Yes'\n",
    "data.loc[data['CONCPT9'] == 22849, 'CPT_EX'] = 'Yes'\n",
    "data.loc[data['CONCPT9'] == 22850, 'CPT_EX'] = 'Yes'\n",
    "data.loc[data['CONCPT9'] == 22852, 'CPT_EX'] = 'Yes'\n",
    "data.loc[data['CONCPT9'] == 22855, 'CPT_EX'] = 'Yes'\n",
    "data.loc[data['CONCPT9'] == 22861, 'CPT_EX'] = 'Yes'\n",
    "data.loc[data['CONCPT9'] == 22864, 'CPT_EX'] = 'Yes'\n",
    "data.loc[data['CONCPT9'] == 63300, 'CPT_EX'] = 'Yes'\n",
    "data.loc[data['CONCPT9'] == 63301, 'CPT_EX'] = 'Yes'\n",
    "data.loc[data['CONCPT9'] == 63304, 'CPT_EX'] = 'Yes'\n",
    "data.loc[data['CONCPT9'] == 63308, 'CPT_EX'] = 'Yes'\n",
    "\n",
    "data.loc[data['CONCPT10'] == 22551, 'CPT_EX'] = 'Yes'\n",
    "data.loc[data['CONCPT10'] == 22552, 'CPT_EX'] = 'Yes'\n",
    "data.loc[data['CONCPT10'] == 22590, 'CPT_EX'] = 'Yes'\n",
    "data.loc[data['CONCPT10'] == 22595, 'CPT_EX'] = 'Yes'\n",
    "data.loc[data['CONCPT10'] == 22600, 'CPT_EX'] = 'Yes'\n",
    "data.loc[data['CONCPT10'] == 22856, 'CPT_EX'] = 'Yes'\n",
    "data.loc[data['CONCPT10'] == 22858, 'CPT_EX'] = 'Yes'\n",
    "data.loc[data['CONCPT10'] == 63015, 'CPT_EX'] = 'Yes'\n",
    "data.loc[data['CONCPT10'] == 63020, 'CPT_EX'] = 'Yes'\n",
    "data.loc[data['CONCPT10'] == 63040, 'CPT_EX'] = 'Yes'\n",
    "data.loc[data['CONCPT10'] == 63045, 'CPT_EX'] = 'Yes'\n",
    "data.loc[data['CONCPT10'] == 63050, 'CPT_EX'] = 'Yes'\n",
    "data.loc[data['CONCPT10'] == 63051, 'CPT_EX'] = 'Yes'\n",
    "data.loc[data['CONCPT10'] == 22556, 'CPT_EX'] = 'Yes'\n",
    "data.loc[data['CONCPT10'] == 22558, 'CPT_EX'] = 'Yes'\n",
    "data.loc[data['CONCPT10'] == 22610, 'CPT_EX'] = 'Yes'\n",
    "data.loc[data['CONCPT10'] == 22612, 'CPT_EX'] = 'Yes'\n",
    "data.loc[data['CONCPT10'] == 22632, 'CPT_EX'] = 'Yes'\n",
    "data.loc[data['CONCPT10'] == 22633, 'CPT_EX'] = 'Yes'\n",
    "data.loc[data['CONCPT10'] == 22634, 'CPT_EX'] = 'Yes'\n",
    "data.loc[data['CONCPT10'] == 22830, 'CPT_EX'] = 'Yes'\n",
    "data.loc[data['CONCPT10'] == 22849, 'CPT_EX'] = 'Yes'\n",
    "data.loc[data['CONCPT10'] == 22850, 'CPT_EX'] = 'Yes'\n",
    "data.loc[data['CONCPT10'] == 22852, 'CPT_EX'] = 'Yes'\n",
    "data.loc[data['CONCPT10'] == 22855, 'CPT_EX'] = 'Yes'\n",
    "data.loc[data['CONCPT10'] == 22861, 'CPT_EX'] = 'Yes'\n",
    "data.loc[data['CONCPT10'] == 22864, 'CPT_EX'] = 'Yes'\n",
    "data.loc[data['CONCPT10'] == 63300, 'CPT_EX'] = 'Yes'\n",
    "data.loc[data['CONCPT10'] == 63301, 'CPT_EX'] = 'Yes'\n",
    "data.loc[data['CONCPT10'] == 63304, 'CPT_EX'] = 'Yes'\n",
    "data.loc[data['CONCPT10'] == 63308, 'CPT_EX'] = 'Yes'\n",
    "\n",
    "data.loc[data['OTHERCPT1'] == 22551, 'CPT_EX'] = 'Yes'\n",
    "data.loc[data['OTHERCPT1'] == 22552, 'CPT_EX'] = 'Yes'\n",
    "data.loc[data['OTHERCPT1'] == 22590, 'CPT_EX'] = 'Yes'\n",
    "data.loc[data['OTHERCPT1'] == 22595, 'CPT_EX'] = 'Yes'\n",
    "data.loc[data['OTHERCPT1'] == 22600, 'CPT_EX'] = 'Yes'\n",
    "data.loc[data['OTHERCPT1'] == 22856, 'CPT_EX'] = 'Yes'\n",
    "data.loc[data['OTHERCPT1'] == 22858, 'CPT_EX'] = 'Yes'\n",
    "data.loc[data['OTHERCPT1'] == 63015, 'CPT_EX'] = 'Yes'\n",
    "data.loc[data['OTHERCPT1'] == 63020, 'CPT_EX'] = 'Yes'\n",
    "data.loc[data['OTHERCPT1'] == 63040, 'CPT_EX'] = 'Yes'\n",
    "data.loc[data['OTHERCPT1'] == 63045, 'CPT_EX'] = 'Yes'\n",
    "data.loc[data['OTHERCPT1'] == 63050, 'CPT_EX'] = 'Yes'\n",
    "data.loc[data['OTHERCPT1'] == 63051, 'CPT_EX'] = 'Yes'\n",
    "data.loc[data['OTHERCPT1'] == 22556, 'CPT_EX'] = 'Yes'\n",
    "data.loc[data['OTHERCPT1'] == 22558, 'CPT_EX'] = 'Yes'\n",
    "data.loc[data['OTHERCPT1'] == 22610, 'CPT_EX'] = 'Yes'\n",
    "data.loc[data['OTHERCPT1'] == 22612, 'CPT_EX'] = 'Yes'\n",
    "data.loc[data['OTHERCPT1'] == 22632, 'CPT_EX'] = 'Yes'\n",
    "data.loc[data['OTHERCPT1'] == 22633, 'CPT_EX'] = 'Yes'\n",
    "data.loc[data['OTHERCPT1'] == 22634, 'CPT_EX'] = 'Yes'\n",
    "data.loc[data['OTHERCPT1'] == 22830, 'CPT_EX'] = 'Yes'\n",
    "data.loc[data['OTHERCPT1'] == 22849, 'CPT_EX'] = 'Yes'\n",
    "data.loc[data['OTHERCPT1'] == 22850, 'CPT_EX'] = 'Yes'\n",
    "data.loc[data['OTHERCPT1'] == 22852, 'CPT_EX'] = 'Yes'\n",
    "data.loc[data['OTHERCPT1'] == 22855, 'CPT_EX'] = 'Yes'\n",
    "data.loc[data['OTHERCPT1'] == 22861, 'CPT_EX'] = 'Yes'\n",
    "data.loc[data['OTHERCPT1'] == 22864, 'CPT_EX'] = 'Yes'\n",
    "data.loc[data['OTHERCPT1'] == 63300, 'CPT_EX'] = 'Yes'\n",
    "data.loc[data['OTHERCPT1'] == 63301, 'CPT_EX'] = 'Yes'\n",
    "data.loc[data['OTHERCPT1'] == 63304, 'CPT_EX'] = 'Yes'\n",
    "data.loc[data['OTHERCPT1'] == 63308, 'CPT_EX'] = 'Yes'\n",
    "\n",
    "data.loc[data['OTHERCPT2'] == 22551, 'CPT_EX'] = 'Yes'\n",
    "data.loc[data['OTHERCPT2'] == 22552, 'CPT_EX'] = 'Yes'\n",
    "data.loc[data['OTHERCPT2'] == 22590, 'CPT_EX'] = 'Yes'\n",
    "data.loc[data['OTHERCPT2'] == 22595, 'CPT_EX'] = 'Yes'\n",
    "data.loc[data['OTHERCPT2'] == 22600, 'CPT_EX'] = 'Yes'\n",
    "data.loc[data['OTHERCPT2'] == 22856, 'CPT_EX'] = 'Yes'\n",
    "data.loc[data['OTHERCPT2'] == 22858, 'CPT_EX'] = 'Yes'\n",
    "data.loc[data['OTHERCPT2'] == 63015, 'CPT_EX'] = 'Yes'\n",
    "data.loc[data['OTHERCPT2'] == 63020, 'CPT_EX'] = 'Yes'\n",
    "data.loc[data['OTHERCPT2'] == 63040, 'CPT_EX'] = 'Yes'\n",
    "data.loc[data['OTHERCPT2'] == 63045, 'CPT_EX'] = 'Yes'\n",
    "data.loc[data['OTHERCPT2'] == 63050, 'CPT_EX'] = 'Yes'\n",
    "data.loc[data['OTHERCPT2'] == 63051, 'CPT_EX'] = 'Yes'\n",
    "data.loc[data['OTHERCPT2'] == 22556, 'CPT_EX'] = 'Yes'\n",
    "data.loc[data['OTHERCPT2'] == 22558, 'CPT_EX'] = 'Yes'\n",
    "data.loc[data['OTHERCPT2'] == 22610, 'CPT_EX'] = 'Yes'\n",
    "data.loc[data['OTHERCPT2'] == 22612, 'CPT_EX'] = 'Yes'\n",
    "data.loc[data['OTHERCPT2'] == 22632, 'CPT_EX'] = 'Yes'\n",
    "data.loc[data['OTHERCPT2'] == 22633, 'CPT_EX'] = 'Yes'\n",
    "data.loc[data['OTHERCPT2'] == 22634, 'CPT_EX'] = 'Yes'\n",
    "data.loc[data['OTHERCPT2'] == 22830, 'CPT_EX'] = 'Yes'\n",
    "data.loc[data['OTHERCPT2'] == 22849, 'CPT_EX'] = 'Yes'\n",
    "data.loc[data['OTHERCPT2'] == 22850, 'CPT_EX'] = 'Yes'\n",
    "data.loc[data['OTHERCPT2'] == 22852, 'CPT_EX'] = 'Yes'\n",
    "data.loc[data['OTHERCPT2'] == 22855, 'CPT_EX'] = 'Yes'\n",
    "data.loc[data['OTHERCPT2'] == 22861, 'CPT_EX'] = 'Yes'\n",
    "data.loc[data['OTHERCPT2'] == 22864, 'CPT_EX'] = 'Yes'\n",
    "data.loc[data['OTHERCPT2'] == 63300, 'CPT_EX'] = 'Yes'\n",
    "data.loc[data['OTHERCPT2'] == 63301, 'CPT_EX'] = 'Yes'\n",
    "data.loc[data['OTHERCPT2'] == 63304, 'CPT_EX'] = 'Yes'\n",
    "data.loc[data['OTHERCPT2'] == 63308, 'CPT_EX'] = 'Yes'\n",
    "\n",
    "data.loc[data['OTHERCPT3'] == 22551, 'CPT_EX'] = 'Yes'\n",
    "data.loc[data['OTHERCPT3'] == 22552, 'CPT_EX'] = 'Yes'\n",
    "data.loc[data['OTHERCPT3'] == 22590, 'CPT_EX'] = 'Yes'\n",
    "data.loc[data['OTHERCPT3'] == 22595, 'CPT_EX'] = 'Yes'\n",
    "data.loc[data['OTHERCPT3'] == 22600, 'CPT_EX'] = 'Yes'\n",
    "data.loc[data['OTHERCPT3'] == 22856, 'CPT_EX'] = 'Yes'\n",
    "data.loc[data['OTHERCPT3'] == 22858, 'CPT_EX'] = 'Yes'\n",
    "data.loc[data['OTHERCPT3'] == 63015, 'CPT_EX'] = 'Yes'\n",
    "data.loc[data['OTHERCPT3'] == 63020, 'CPT_EX'] = 'Yes'\n",
    "data.loc[data['OTHERCPT3'] == 63040, 'CPT_EX'] = 'Yes'\n",
    "data.loc[data['OTHERCPT3'] == 63045, 'CPT_EX'] = 'Yes'\n",
    "data.loc[data['OTHERCPT3'] == 63050, 'CPT_EX'] = 'Yes'\n",
    "data.loc[data['OTHERCPT3'] == 63051, 'CPT_EX'] = 'Yes'\n",
    "data.loc[data['OTHERCPT3'] == 22556, 'CPT_EX'] = 'Yes'\n",
    "data.loc[data['OTHERCPT3'] == 22558, 'CPT_EX'] = 'Yes'\n",
    "data.loc[data['OTHERCPT3'] == 22610, 'CPT_EX'] = 'Yes'\n",
    "data.loc[data['OTHERCPT3'] == 22612, 'CPT_EX'] = 'Yes'\n",
    "data.loc[data['OTHERCPT3'] == 22632, 'CPT_EX'] = 'Yes'\n",
    "data.loc[data['OTHERCPT3'] == 22633, 'CPT_EX'] = 'Yes'\n",
    "data.loc[data['OTHERCPT3'] == 22634, 'CPT_EX'] = 'Yes'\n",
    "data.loc[data['OTHERCPT3'] == 22830, 'CPT_EX'] = 'Yes'\n",
    "data.loc[data['OTHERCPT3'] == 22849, 'CPT_EX'] = 'Yes'\n",
    "data.loc[data['OTHERCPT3'] == 22850, 'CPT_EX'] = 'Yes'\n",
    "data.loc[data['OTHERCPT3'] == 22852, 'CPT_EX'] = 'Yes'\n",
    "data.loc[data['OTHERCPT3'] == 22855, 'CPT_EX'] = 'Yes'\n",
    "data.loc[data['OTHERCPT3'] == 22861, 'CPT_EX'] = 'Yes'\n",
    "data.loc[data['OTHERCPT3'] == 22864, 'CPT_EX'] = 'Yes'\n",
    "data.loc[data['OTHERCPT3'] == 63300, 'CPT_EX'] = 'Yes'\n",
    "data.loc[data['OTHERCPT3'] == 63301, 'CPT_EX'] = 'Yes'\n",
    "data.loc[data['OTHERCPT3'] == 63304, 'CPT_EX'] = 'Yes'\n",
    "data.loc[data['OTHERCPT3'] == 63308, 'CPT_EX'] = 'Yes'\n",
    "\n",
    "data.loc[data['OTHERCPT4'] == 22551, 'CPT_EX'] = 'Yes'\n",
    "data.loc[data['OTHERCPT4'] == 22552, 'CPT_EX'] = 'Yes'\n",
    "data.loc[data['OTHERCPT4'] == 22590, 'CPT_EX'] = 'Yes'\n",
    "data.loc[data['OTHERCPT4'] == 22595, 'CPT_EX'] = 'Yes'\n",
    "data.loc[data['OTHERCPT4'] == 22600, 'CPT_EX'] = 'Yes'\n",
    "data.loc[data['OTHERCPT4'] == 22856, 'CPT_EX'] = 'Yes'\n",
    "data.loc[data['OTHERCPT4'] == 22858, 'CPT_EX'] = 'Yes'\n",
    "data.loc[data['OTHERCPT4'] == 63015, 'CPT_EX'] = 'Yes'\n",
    "data.loc[data['OTHERCPT4'] == 63020, 'CPT_EX'] = 'Yes'\n",
    "data.loc[data['OTHERCPT4'] == 63040, 'CPT_EX'] = 'Yes'\n",
    "data.loc[data['OTHERCPT4'] == 63045, 'CPT_EX'] = 'Yes'\n",
    "data.loc[data['OTHERCPT4'] == 63050, 'CPT_EX'] = 'Yes'\n",
    "data.loc[data['OTHERCPT4'] == 63051, 'CPT_EX'] = 'Yes'\n",
    "data.loc[data['OTHERCPT4'] == 22556, 'CPT_EX'] = 'Yes'\n",
    "data.loc[data['OTHERCPT4'] == 22558, 'CPT_EX'] = 'Yes'\n",
    "data.loc[data['OTHERCPT4'] == 22610, 'CPT_EX'] = 'Yes'\n",
    "data.loc[data['OTHERCPT4'] == 22612, 'CPT_EX'] = 'Yes'\n",
    "data.loc[data['OTHERCPT4'] == 22632, 'CPT_EX'] = 'Yes'\n",
    "data.loc[data['OTHERCPT4'] == 22633, 'CPT_EX'] = 'Yes'\n",
    "data.loc[data['OTHERCPT4'] == 22634, 'CPT_EX'] = 'Yes'\n",
    "data.loc[data['OTHERCPT4'] == 22830, 'CPT_EX'] = 'Yes'\n",
    "data.loc[data['OTHERCPT4'] == 22849, 'CPT_EX'] = 'Yes'\n",
    "data.loc[data['OTHERCPT4'] == 22850, 'CPT_EX'] = 'Yes'\n",
    "data.loc[data['OTHERCPT4'] == 22852, 'CPT_EX'] = 'Yes'\n",
    "data.loc[data['OTHERCPT4'] == 22855, 'CPT_EX'] = 'Yes'\n",
    "data.loc[data['OTHERCPT4'] == 22861, 'CPT_EX'] = 'Yes'\n",
    "data.loc[data['OTHERCPT4'] == 22864, 'CPT_EX'] = 'Yes'\n",
    "data.loc[data['OTHERCPT4'] == 63300, 'CPT_EX'] = 'Yes'\n",
    "data.loc[data['OTHERCPT4'] == 63301, 'CPT_EX'] = 'Yes'\n",
    "data.loc[data['OTHERCPT4'] == 63304, 'CPT_EX'] = 'Yes'\n",
    "data.loc[data['OTHERCPT4'] == 63308, 'CPT_EX'] = 'Yes'\n",
    "\n",
    "data.loc[data['OTHERCPT5'] == 22551, 'CPT_EX'] = 'Yes'\n",
    "data.loc[data['OTHERCPT5'] == 22552, 'CPT_EX'] = 'Yes'\n",
    "data.loc[data['OTHERCPT5'] == 22590, 'CPT_EX'] = 'Yes'\n",
    "data.loc[data['OTHERCPT5'] == 22595, 'CPT_EX'] = 'Yes'\n",
    "data.loc[data['OTHERCPT5'] == 22600, 'CPT_EX'] = 'Yes'\n",
    "data.loc[data['OTHERCPT5'] == 22856, 'CPT_EX'] = 'Yes'\n",
    "data.loc[data['OTHERCPT5'] == 22858, 'CPT_EX'] = 'Yes'\n",
    "data.loc[data['OTHERCPT5'] == 63015, 'CPT_EX'] = 'Yes'\n",
    "data.loc[data['OTHERCPT5'] == 63020, 'CPT_EX'] = 'Yes'\n",
    "data.loc[data['OTHERCPT5'] == 63040, 'CPT_EX'] = 'Yes'\n",
    "data.loc[data['OTHERCPT5'] == 63045, 'CPT_EX'] = 'Yes'\n",
    "data.loc[data['OTHERCPT5'] == 63050, 'CPT_EX'] = 'Yes'\n",
    "data.loc[data['OTHERCPT5'] == 63051, 'CPT_EX'] = 'Yes'\n",
    "data.loc[data['OTHERCPT5'] == 22556, 'CPT_EX'] = 'Yes'\n",
    "data.loc[data['OTHERCPT5'] == 22558, 'CPT_EX'] = 'Yes'\n",
    "data.loc[data['OTHERCPT5'] == 22610, 'CPT_EX'] = 'Yes'\n",
    "data.loc[data['OTHERCPT5'] == 22612, 'CPT_EX'] = 'Yes'\n",
    "data.loc[data['OTHERCPT5'] == 22632, 'CPT_EX'] = 'Yes'\n",
    "data.loc[data['OTHERCPT5'] == 22633, 'CPT_EX'] = 'Yes'\n",
    "data.loc[data['OTHERCPT5'] == 22634, 'CPT_EX'] = 'Yes'\n",
    "data.loc[data['OTHERCPT5'] == 22830, 'CPT_EX'] = 'Yes'\n",
    "data.loc[data['OTHERCPT5'] == 22849, 'CPT_EX'] = 'Yes'\n",
    "data.loc[data['OTHERCPT5'] == 22850, 'CPT_EX'] = 'Yes'\n",
    "data.loc[data['OTHERCPT5'] == 22852, 'CPT_EX'] = 'Yes'\n",
    "data.loc[data['OTHERCPT5'] == 22855, 'CPT_EX'] = 'Yes'\n",
    "data.loc[data['OTHERCPT5'] == 22861, 'CPT_EX'] = 'Yes'\n",
    "data.loc[data['OTHERCPT5'] == 22864, 'CPT_EX'] = 'Yes'\n",
    "data.loc[data['OTHERCPT5'] == 63300, 'CPT_EX'] = 'Yes'\n",
    "data.loc[data['OTHERCPT5'] == 63301, 'CPT_EX'] = 'Yes'\n",
    "data.loc[data['OTHERCPT5'] == 63304, 'CPT_EX'] = 'Yes'\n",
    "data.loc[data['OTHERCPT5'] == 63308, 'CPT_EX'] = 'Yes'\n",
    "\n",
    "data.loc[data['OTHERCPT6'] == 22551, 'CPT_EX'] = 'Yes'\n",
    "data.loc[data['OTHERCPT6'] == 22552, 'CPT_EX'] = 'Yes'\n",
    "data.loc[data['OTHERCPT6'] == 22590, 'CPT_EX'] = 'Yes'\n",
    "data.loc[data['OTHERCPT6'] == 22595, 'CPT_EX'] = 'Yes'\n",
    "data.loc[data['OTHERCPT6'] == 22600, 'CPT_EX'] = 'Yes'\n",
    "data.loc[data['OTHERCPT6'] == 22856, 'CPT_EX'] = 'Yes'\n",
    "data.loc[data['OTHERCPT6'] == 22858, 'CPT_EX'] = 'Yes'\n",
    "data.loc[data['OTHERCPT6'] == 63015, 'CPT_EX'] = 'Yes'\n",
    "data.loc[data['OTHERCPT6'] == 63020, 'CPT_EX'] = 'Yes'\n",
    "data.loc[data['OTHERCPT6'] == 63040, 'CPT_EX'] = 'Yes'\n",
    "data.loc[data['OTHERCPT6'] == 63045, 'CPT_EX'] = 'Yes'\n",
    "data.loc[data['OTHERCPT6'] == 63050, 'CPT_EX'] = 'Yes'\n",
    "data.loc[data['OTHERCPT6'] == 63051, 'CPT_EX'] = 'Yes'\n",
    "data.loc[data['OTHERCPT6'] == 22556, 'CPT_EX'] = 'Yes'\n",
    "data.loc[data['OTHERCPT6'] == 22558, 'CPT_EX'] = 'Yes'\n",
    "data.loc[data['OTHERCPT6'] == 22610, 'CPT_EX'] = 'Yes'\n",
    "data.loc[data['OTHERCPT6'] == 22612, 'CPT_EX'] = 'Yes'\n",
    "data.loc[data['OTHERCPT6'] == 22632, 'CPT_EX'] = 'Yes'\n",
    "data.loc[data['OTHERCPT6'] == 22633, 'CPT_EX'] = 'Yes'\n",
    "data.loc[data['OTHERCPT6'] == 22634, 'CPT_EX'] = 'Yes'\n",
    "data.loc[data['OTHERCPT6'] == 22830, 'CPT_EX'] = 'Yes'\n",
    "data.loc[data['OTHERCPT6'] == 22849, 'CPT_EX'] = 'Yes'\n",
    "data.loc[data['OTHERCPT6'] == 22850, 'CPT_EX'] = 'Yes'\n",
    "data.loc[data['OTHERCPT6'] == 22852, 'CPT_EX'] = 'Yes'\n",
    "data.loc[data['OTHERCPT6'] == 22855, 'CPT_EX'] = 'Yes'\n",
    "data.loc[data['OTHERCPT6'] == 22861, 'CPT_EX'] = 'Yes'\n",
    "data.loc[data['OTHERCPT6'] == 22864, 'CPT_EX'] = 'Yes'\n",
    "data.loc[data['OTHERCPT6'] == 63300, 'CPT_EX'] = 'Yes'\n",
    "data.loc[data['OTHERCPT6'] == 63301, 'CPT_EX'] = 'Yes'\n",
    "data.loc[data['OTHERCPT6'] == 63304, 'CPT_EX'] = 'Yes'\n",
    "data.loc[data['OTHERCPT6'] == 63308, 'CPT_EX'] = 'Yes'\n",
    "\n",
    "data.loc[data['OTHERCPT7'] == 22551, 'CPT_EX'] = 'Yes'\n",
    "data.loc[data['OTHERCPT7'] == 22552, 'CPT_EX'] = 'Yes'\n",
    "data.loc[data['OTHERCPT7'] == 22590, 'CPT_EX'] = 'Yes'\n",
    "data.loc[data['OTHERCPT7'] == 22595, 'CPT_EX'] = 'Yes'\n",
    "data.loc[data['OTHERCPT7'] == 22600, 'CPT_EX'] = 'Yes'\n",
    "data.loc[data['OTHERCPT7'] == 22856, 'CPT_EX'] = 'Yes'\n",
    "data.loc[data['OTHERCPT7'] == 22858, 'CPT_EX'] = 'Yes'\n",
    "data.loc[data['OTHERCPT7'] == 63015, 'CPT_EX'] = 'Yes'\n",
    "data.loc[data['OTHERCPT7'] == 63020, 'CPT_EX'] = 'Yes'\n",
    "data.loc[data['OTHERCPT7'] == 63040, 'CPT_EX'] = 'Yes'\n",
    "data.loc[data['OTHERCPT7'] == 63045, 'CPT_EX'] = 'Yes'\n",
    "data.loc[data['OTHERCPT7'] == 63050, 'CPT_EX'] = 'Yes'\n",
    "data.loc[data['OTHERCPT7'] == 63051, 'CPT_EX'] = 'Yes'\n",
    "data.loc[data['OTHERCPT7'] == 22556, 'CPT_EX'] = 'Yes'\n",
    "data.loc[data['OTHERCPT7'] == 22558, 'CPT_EX'] = 'Yes'\n",
    "data.loc[data['OTHERCPT7'] == 22610, 'CPT_EX'] = 'Yes'\n",
    "data.loc[data['OTHERCPT7'] == 22612, 'CPT_EX'] = 'Yes'\n",
    "data.loc[data['OTHERCPT7'] == 22632, 'CPT_EX'] = 'Yes'\n",
    "data.loc[data['OTHERCPT7'] == 22633, 'CPT_EX'] = 'Yes'\n",
    "data.loc[data['OTHERCPT7'] == 22634, 'CPT_EX'] = 'Yes'\n",
    "data.loc[data['OTHERCPT7'] == 22830, 'CPT_EX'] = 'Yes'\n",
    "data.loc[data['OTHERCPT7'] == 22849, 'CPT_EX'] = 'Yes'\n",
    "data.loc[data['OTHERCPT7'] == 22850, 'CPT_EX'] = 'Yes'\n",
    "data.loc[data['OTHERCPT7'] == 22852, 'CPT_EX'] = 'Yes'\n",
    "data.loc[data['OTHERCPT7'] == 22855, 'CPT_EX'] = 'Yes'\n",
    "data.loc[data['OTHERCPT7'] == 22861, 'CPT_EX'] = 'Yes'\n",
    "data.loc[data['OTHERCPT7'] == 22864, 'CPT_EX'] = 'Yes'\n",
    "data.loc[data['OTHERCPT7'] == 63300, 'CPT_EX'] = 'Yes'\n",
    "data.loc[data['OTHERCPT7'] == 63301, 'CPT_EX'] = 'Yes'\n",
    "data.loc[data['OTHERCPT7'] == 63304, 'CPT_EX'] = 'Yes'\n",
    "data.loc[data['OTHERCPT7'] == 63308, 'CPT_EX'] = 'Yes'\n",
    "\n",
    "data.loc[data['OTHERCPT8'] == 22551, 'CPT_EX'] = 'Yes'\n",
    "data.loc[data['OTHERCPT8'] == 22552, 'CPT_EX'] = 'Yes'\n",
    "data.loc[data['OTHERCPT8'] == 22590, 'CPT_EX'] = 'Yes'\n",
    "data.loc[data['OTHERCPT8'] == 22595, 'CPT_EX'] = 'Yes'\n",
    "data.loc[data['OTHERCPT8'] == 22600, 'CPT_EX'] = 'Yes'\n",
    "data.loc[data['OTHERCPT8'] == 22856, 'CPT_EX'] = 'Yes'\n",
    "data.loc[data['OTHERCPT8'] == 22858, 'CPT_EX'] = 'Yes'\n",
    "data.loc[data['OTHERCPT8'] == 63015, 'CPT_EX'] = 'Yes'\n",
    "data.loc[data['OTHERCPT8'] == 63020, 'CPT_EX'] = 'Yes'\n",
    "data.loc[data['OTHERCPT8'] == 63040, 'CPT_EX'] = 'Yes'\n",
    "data.loc[data['OTHERCPT8'] == 63045, 'CPT_EX'] = 'Yes'\n",
    "data.loc[data['OTHERCPT8'] == 63050, 'CPT_EX'] = 'Yes'\n",
    "data.loc[data['OTHERCPT8'] == 63051, 'CPT_EX'] = 'Yes'\n",
    "data.loc[data['OTHERCPT8'] == 22556, 'CPT_EX'] = 'Yes'\n",
    "data.loc[data['OTHERCPT8'] == 22558, 'CPT_EX'] = 'Yes'\n",
    "data.loc[data['OTHERCPT8'] == 22610, 'CPT_EX'] = 'Yes'\n",
    "data.loc[data['OTHERCPT8'] == 22612, 'CPT_EX'] = 'Yes'\n",
    "data.loc[data['OTHERCPT8'] == 22632, 'CPT_EX'] = 'Yes'\n",
    "data.loc[data['OTHERCPT8'] == 22633, 'CPT_EX'] = 'Yes'\n",
    "data.loc[data['OTHERCPT8'] == 22634, 'CPT_EX'] = 'Yes'\n",
    "data.loc[data['OTHERCPT8'] == 22830, 'CPT_EX'] = 'Yes'\n",
    "data.loc[data['OTHERCPT8'] == 22849, 'CPT_EX'] = 'Yes'\n",
    "data.loc[data['OTHERCPT8'] == 22850, 'CPT_EX'] = 'Yes'\n",
    "data.loc[data['OTHERCPT8'] == 22852, 'CPT_EX'] = 'Yes'\n",
    "data.loc[data['OTHERCPT8'] == 22855, 'CPT_EX'] = 'Yes'\n",
    "data.loc[data['OTHERCPT8'] == 22861, 'CPT_EX'] = 'Yes'\n",
    "data.loc[data['OTHERCPT8'] == 22864, 'CPT_EX'] = 'Yes'\n",
    "data.loc[data['OTHERCPT8'] == 63300, 'CPT_EX'] = 'Yes'\n",
    "data.loc[data['OTHERCPT8'] == 63301, 'CPT_EX'] = 'Yes'\n",
    "data.loc[data['OTHERCPT8'] == 63304, 'CPT_EX'] = 'Yes'\n",
    "data.loc[data['OTHERCPT8'] == 63308, 'CPT_EX'] = 'Yes'\n",
    "\n",
    "data.loc[data['OTHERCPT9'] == 22551, 'CPT_EX'] = 'Yes'\n",
    "data.loc[data['OTHERCPT9'] == 22552, 'CPT_EX'] = 'Yes'\n",
    "data.loc[data['OTHERCPT9'] == 22590, 'CPT_EX'] = 'Yes'\n",
    "data.loc[data['OTHERCPT9'] == 22595, 'CPT_EX'] = 'Yes'\n",
    "data.loc[data['OTHERCPT9'] == 22600, 'CPT_EX'] = 'Yes'\n",
    "data.loc[data['OTHERCPT9'] == 22856, 'CPT_EX'] = 'Yes'\n",
    "data.loc[data['OTHERCPT9'] == 22858, 'CPT_EX'] = 'Yes'\n",
    "data.loc[data['OTHERCPT9'] == 63015, 'CPT_EX'] = 'Yes'\n",
    "data.loc[data['OTHERCPT9'] == 63020, 'CPT_EX'] = 'Yes'\n",
    "data.loc[data['OTHERCPT9'] == 63040, 'CPT_EX'] = 'Yes'\n",
    "data.loc[data['OTHERCPT9'] == 63045, 'CPT_EX'] = 'Yes'\n",
    "data.loc[data['OTHERCPT9'] == 63050, 'CPT_EX'] = 'Yes'\n",
    "data.loc[data['OTHERCPT9'] == 63051, 'CPT_EX'] = 'Yes'\n",
    "data.loc[data['OTHERCPT9'] == 22556, 'CPT_EX'] = 'Yes'\n",
    "data.loc[data['OTHERCPT9'] == 22558, 'CPT_EX'] = 'Yes'\n",
    "data.loc[data['OTHERCPT9'] == 22610, 'CPT_EX'] = 'Yes'\n",
    "data.loc[data['OTHERCPT9'] == 22612, 'CPT_EX'] = 'Yes'\n",
    "data.loc[data['OTHERCPT9'] == 22632, 'CPT_EX'] = 'Yes'\n",
    "data.loc[data['OTHERCPT9'] == 22633, 'CPT_EX'] = 'Yes'\n",
    "data.loc[data['OTHERCPT9'] == 22634, 'CPT_EX'] = 'Yes'\n",
    "data.loc[data['OTHERCPT9'] == 22830, 'CPT_EX'] = 'Yes'\n",
    "data.loc[data['OTHERCPT9'] == 22849, 'CPT_EX'] = 'Yes'\n",
    "data.loc[data['OTHERCPT9'] == 22850, 'CPT_EX'] = 'Yes'\n",
    "data.loc[data['OTHERCPT9'] == 22852, 'CPT_EX'] = 'Yes'\n",
    "data.loc[data['OTHERCPT9'] == 22855, 'CPT_EX'] = 'Yes'\n",
    "data.loc[data['OTHERCPT9'] == 22861, 'CPT_EX'] = 'Yes'\n",
    "data.loc[data['OTHERCPT9'] == 22864, 'CPT_EX'] = 'Yes'\n",
    "data.loc[data['OTHERCPT9'] == 63300, 'CPT_EX'] = 'Yes'\n",
    "data.loc[data['OTHERCPT9'] == 63301, 'CPT_EX'] = 'Yes'\n",
    "data.loc[data['OTHERCPT9'] == 63304, 'CPT_EX'] = 'Yes'\n",
    "data.loc[data['OTHERCPT9'] == 63308, 'CPT_EX'] = 'Yes'\n",
    "\n",
    "data.loc[data['OTHERCPT10'] == 22551, 'CPT_EX'] = 'Yes'\n",
    "data.loc[data['OTHERCPT10'] == 22552, 'CPT_EX'] = 'Yes'\n",
    "data.loc[data['OTHERCPT10'] == 22590, 'CPT_EX'] = 'Yes'\n",
    "data.loc[data['OTHERCPT10'] == 22595, 'CPT_EX'] = 'Yes'\n",
    "data.loc[data['OTHERCPT10'] == 22600, 'CPT_EX'] = 'Yes'\n",
    "data.loc[data['OTHERCPT10'] == 22856, 'CPT_EX'] = 'Yes'\n",
    "data.loc[data['OTHERCPT10'] == 22858, 'CPT_EX'] = 'Yes'\n",
    "data.loc[data['OTHERCPT10'] == 63015, 'CPT_EX'] = 'Yes'\n",
    "data.loc[data['OTHERCPT10'] == 63020, 'CPT_EX'] = 'Yes'\n",
    "data.loc[data['OTHERCPT10'] == 63040, 'CPT_EX'] = 'Yes'\n",
    "data.loc[data['OTHERCPT10'] == 63045, 'CPT_EX'] = 'Yes'\n",
    "data.loc[data['OTHERCPT10'] == 63050, 'CPT_EX'] = 'Yes'\n",
    "data.loc[data['OTHERCPT10'] == 63051, 'CPT_EX'] = 'Yes'\n",
    "data.loc[data['OTHERCPT10'] == 22556, 'CPT_EX'] = 'Yes'\n",
    "data.loc[data['OTHERCPT10'] == 22558, 'CPT_EX'] = 'Yes'\n",
    "data.loc[data['OTHERCPT10'] == 22610, 'CPT_EX'] = 'Yes'\n",
    "data.loc[data['OTHERCPT10'] == 22612, 'CPT_EX'] = 'Yes'\n",
    "data.loc[data['OTHERCPT10'] == 22632, 'CPT_EX'] = 'Yes'\n",
    "data.loc[data['OTHERCPT10'] == 22633, 'CPT_EX'] = 'Yes'\n",
    "data.loc[data['OTHERCPT10'] == 22634, 'CPT_EX'] = 'Yes'\n",
    "data.loc[data['OTHERCPT10'] == 22830, 'CPT_EX'] = 'Yes'\n",
    "data.loc[data['OTHERCPT10'] == 22849, 'CPT_EX'] = 'Yes'\n",
    "data.loc[data['OTHERCPT10'] == 22850, 'CPT_EX'] = 'Yes'\n",
    "data.loc[data['OTHERCPT10'] == 22852, 'CPT_EX'] = 'Yes'\n",
    "data.loc[data['OTHERCPT10'] == 22855, 'CPT_EX'] = 'Yes'\n",
    "data.loc[data['OTHERCPT10'] == 22861, 'CPT_EX'] = 'Yes'\n",
    "data.loc[data['OTHERCPT10'] == 22864, 'CPT_EX'] = 'Yes'\n",
    "data.loc[data['OTHERCPT10'] == 63300, 'CPT_EX'] = 'Yes'\n",
    "data.loc[data['OTHERCPT10'] == 63301, 'CPT_EX'] = 'Yes'\n",
    "data.loc[data['OTHERCPT10'] == 63304, 'CPT_EX'] = 'Yes'\n",
    "data.loc[data['OTHERCPT10'] == 63308, 'CPT_EX'] = 'Yes'\n",
    "\n",
    "data.loc[data['CPT_EX'] != 'Yes', 'CPT_EX'] = 'No'\n",
    "\n",
    "data['CPT_EX'].value_counts(dropna=False)"
   ]
  },
  {
   "cell_type": "code",
   "execution_count": null,
   "id": "8KKrPQHK9Uz4",
   "metadata": {
    "colab": {
     "base_uri": "https://localhost:8080/"
    },
    "executionInfo": {
     "elapsed": 178,
     "status": "ok",
     "timestamp": 1670614955214,
     "user": {
      "displayName": "Mert Karabacak",
      "userId": "14308977132914475412"
     },
     "user_tz": 300
    },
    "id": "8KKrPQHK9Uz4",
    "outputId": "36b74b23-8383-44f1-8ca9-233f024e66a3"
   },
   "outputs": [],
   "source": [
    "#Exclude patients with CPT codes that were assigned to be excluding.\n",
    "\n",
    "data = data[(data['CPT_EX'] == 'No')]\n",
    "\n",
    "data['CPT_EX'].value_counts(normalize=False, dropna=False)"
   ]
  },
  {
   "cell_type": "code",
   "execution_count": null,
   "id": "6c426cf1-c714-425d-b996-38a92517dcd3",
   "metadata": {
    "colab": {
     "base_uri": "https://localhost:8080/"
    },
    "executionInfo": {
     "elapsed": 2,
     "status": "ok",
     "timestamp": 1670614956064,
     "user": {
      "displayName": "Mert Karabacak",
      "userId": "14308977132914475412"
     },
     "user_tz": 300
    },
    "id": "6c426cf1-c714-425d-b996-38a92517dcd3",
    "outputId": "f994737e-b6d3-447b-8c5b-5f309c846823"
   },
   "outputs": [],
   "source": [
    "#Check data for elective surgeries.\n",
    "\n",
    "data['ELECTSURG'].value_counts(normalize=False, dropna=False)"
   ]
  },
  {
   "cell_type": "code",
   "execution_count": null,
   "id": "66c0ac20",
   "metadata": {
    "colab": {
     "base_uri": "https://localhost:8080/"
    },
    "executionInfo": {
     "elapsed": 101,
     "status": "ok",
     "timestamp": 1670615031673,
     "user": {
      "displayName": "Mert Karabacak",
      "userId": "14308977132914475412"
     },
     "user_tz": 300
    },
    "id": "66c0ac20",
    "outputId": "278b3b6f-1ffe-4e58-d14f-8755ab4fb331"
   },
   "outputs": [],
   "source": [
    "#Apply inclusion criteria for elective surgeries.\n",
    "\n",
    "data = data[(data['ELECTSURG'] == 'Yes')]\n",
    "\n",
    "data['ELECTSURG'].value_counts(normalize=False, dropna=False)"
   ]
  },
  {
   "cell_type": "code",
   "execution_count": null,
   "id": "88c16422",
   "metadata": {
    "colab": {
     "base_uri": "https://localhost:8080/"
    },
    "executionInfo": {
     "elapsed": 90,
     "status": "ok",
     "timestamp": 1670615033735,
     "user": {
      "displayName": "Mert Karabacak",
      "userId": "14308977132914475412"
     },
     "user_tz": 300
    },
    "id": "88c16422",
    "outputId": "39085d5e-f2de-4f00-8646-b8a2fe2aacde"
   },
   "outputs": [],
   "source": [
    "#Check data for emergency surgery.\n",
    "\n",
    "data['EMERGNCY'].value_counts(normalize=False, dropna=False)"
   ]
  },
  {
   "cell_type": "code",
   "execution_count": null,
   "id": "bb4d527c",
   "metadata": {
    "colab": {
     "base_uri": "https://localhost:8080/"
    },
    "executionInfo": {
     "elapsed": 703,
     "status": "ok",
     "timestamp": 1670615035209,
     "user": {
      "displayName": "Mert Karabacak",
      "userId": "14308977132914475412"
     },
     "user_tz": 300
    },
    "id": "bb4d527c",
    "outputId": "f7ce9370-a7ac-4381-929b-6575ae693348"
   },
   "outputs": [],
   "source": [
    "#Apply exclusion criteria for emergency surgery.\n",
    "\n",
    "data = data[(data['EMERGNCY'] == 'No')]\n",
    "\n",
    "data['EMERGNCY'].value_counts(normalize=False, dropna=False)"
   ]
  },
  {
   "cell_type": "code",
   "execution_count": null,
   "id": "81efedf4",
   "metadata": {
    "colab": {
     "base_uri": "https://localhost:8080/"
    },
    "executionInfo": {
     "elapsed": 2,
     "status": "ok",
     "timestamp": 1670615035551,
     "user": {
      "displayName": "Mert Karabacak",
      "userId": "14308977132914475412"
     },
     "user_tz": 300
    },
    "id": "81efedf4",
    "outputId": "8e1f9374-fb4b-46cd-f0ab-9dd542b04d81"
   },
   "outputs": [],
   "source": [
    "#Check data for anesthesia type.\n",
    "\n",
    "data['ANESTHES'].value_counts(normalize=False, dropna=False)"
   ]
  },
  {
   "cell_type": "code",
   "execution_count": null,
   "id": "056878f5",
   "metadata": {
    "colab": {
     "base_uri": "https://localhost:8080/"
    },
    "executionInfo": {
     "elapsed": 2,
     "status": "ok",
     "timestamp": 1670615044284,
     "user": {
      "displayName": "Mert Karabacak",
      "userId": "14308977132914475412"
     },
     "user_tz": 300
    },
    "id": "056878f5",
    "outputId": "f5a85748-7b4d-4441-84b1-050929600764"
   },
   "outputs": [],
   "source": [
    "#Apply inclusion criteria for general anesthesia.\n",
    "\n",
    "data = data[(data['ANESTHES'] == 'General')]\n",
    "\n",
    "data['ANESTHES'].value_counts(normalize=False, dropna=False)"
   ]
  },
  {
   "cell_type": "code",
   "execution_count": null,
   "id": "120235be",
   "metadata": {
    "colab": {
     "base_uri": "https://localhost:8080/"
    },
    "executionInfo": {
     "elapsed": 121,
     "status": "ok",
     "timestamp": 1670615045224,
     "user": {
      "displayName": "Mert Karabacak",
      "userId": "14308977132914475412"
     },
     "user_tz": 300
    },
    "id": "120235be",
    "outputId": "b98d99d0-174c-4801-9894-a09481800c68"
   },
   "outputs": [],
   "source": [
    "#Check data for surgical specialties.\n",
    "\n",
    "data['SURGSPEC'].value_counts(normalize=False, dropna=False)"
   ]
  },
  {
   "cell_type": "code",
   "execution_count": null,
   "id": "7cf0695f",
   "metadata": {
    "colab": {
     "base_uri": "https://localhost:8080/"
    },
    "executionInfo": {
     "elapsed": 95,
     "status": "ok",
     "timestamp": 1670615047003,
     "user": {
      "displayName": "Mert Karabacak",
      "userId": "14308977132914475412"
     },
     "user_tz": 300
    },
    "id": "7cf0695f",
    "outputId": "f79a494f-6239-4d90-b0c6-0711e87a314a"
   },
   "outputs": [],
   "source": [
    "#Apply inclusion criteria for surgical specialties.\n",
    "\n",
    "data = data[(data['SURGSPEC'] == 'Neurosurgery') | (data['SURGSPEC'] == 'Orthopedics')]\n",
    "\n",
    "data['SURGSPEC'].value_counts(normalize=False, dropna=False)"
   ]
  },
  {
   "cell_type": "code",
   "execution_count": null,
   "id": "a4d5b647",
   "metadata": {
    "colab": {
     "base_uri": "https://localhost:8080/"
    },
    "executionInfo": {
     "elapsed": 1,
     "status": "ok",
     "timestamp": 1670615047809,
     "user": {
      "displayName": "Mert Karabacak",
      "userId": "14308977132914475412"
     },
     "user_tz": 300
    },
    "id": "a4d5b647",
    "outputId": "20531841-4629-4e39-9424-c925a50e8c83"
   },
   "outputs": [],
   "source": [
    "#Check data for wound class.\n",
    "\n",
    "data['WNDCLAS'].value_counts(normalize=False, dropna=False)"
   ]
  },
  {
   "cell_type": "code",
   "execution_count": null,
   "id": "b6d72d44",
   "metadata": {
    "colab": {
     "base_uri": "https://localhost:8080/"
    },
    "executionInfo": {
     "elapsed": 2,
     "status": "ok",
     "timestamp": 1670615048739,
     "user": {
      "displayName": "Mert Karabacak",
      "userId": "14308977132914475412"
     },
     "user_tz": 300
    },
    "id": "b6d72d44",
    "outputId": "10b78ff9-54f1-423c-9e2b-5a8cc0f9d260"
   },
   "outputs": [],
   "source": [
    "#Apply exclusion criteria for wound class.\n",
    "\n",
    "data = data[(data['WNDCLAS'] == '1-Clean')]\n",
    "\n",
    "data['WNDCLAS'].value_counts(normalize=False, dropna=False)"
   ]
  },
  {
   "cell_type": "code",
   "execution_count": null,
   "id": "3e61433b",
   "metadata": {
    "colab": {
     "base_uri": "https://localhost:8080/"
    },
    "executionInfo": {
     "elapsed": 125,
     "status": "ok",
     "timestamp": 1670615055391,
     "user": {
      "displayName": "Mert Karabacak",
      "userId": "14308977132914475412"
     },
     "user_tz": 300
    },
    "id": "3e61433b",
    "outputId": "0004ded5-2c7b-4faa-df47-7b88a6ac2c6d"
   },
   "outputs": [],
   "source": [
    "#Check data for preoperative sepsis.\n",
    "\n",
    "data['PRSEPIS'].value_counts(normalize=False, dropna=False)"
   ]
  },
  {
   "cell_type": "code",
   "execution_count": null,
   "id": "78f75891",
   "metadata": {
    "colab": {
     "base_uri": "https://localhost:8080/"
    },
    "executionInfo": {
     "elapsed": 97,
     "status": "ok",
     "timestamp": 1670615056387,
     "user": {
      "displayName": "Mert Karabacak",
      "userId": "14308977132914475412"
     },
     "user_tz": 300
    },
    "id": "78f75891",
    "outputId": "9a909486-3239-48bc-d04b-2cbdf83a0d7c"
   },
   "outputs": [],
   "source": [
    "#Apply exclusion criteria for preoperative sepsis.\n",
    "\n",
    "data = data[(data['PRSEPIS'] == 'None')]\n",
    "\n",
    "data['PRSEPIS'].value_counts(normalize=False, dropna=False)"
   ]
  },
  {
   "cell_type": "code",
   "execution_count": null,
   "id": "d00834fd",
   "metadata": {
    "colab": {
     "base_uri": "https://localhost:8080/"
    },
    "executionInfo": {
     "elapsed": 101,
     "status": "ok",
     "timestamp": 1670615057827,
     "user": {
      "displayName": "Mert Karabacak",
      "userId": "14308977132914475412"
     },
     "user_tz": 300
    },
    "id": "d00834fd",
    "outputId": "d9cb3622-8f6b-4f35-a489-a0cd357f6560"
   },
   "outputs": [],
   "source": [
    "#Check data for ASA Class.\n",
    "\n",
    "data['ASACLAS'].value_counts(normalize=False, dropna=False)"
   ]
  },
  {
   "cell_type": "code",
   "execution_count": null,
   "id": "3e51b8d4",
   "metadata": {
    "colab": {
     "base_uri": "https://localhost:8080/"
    },
    "executionInfo": {
     "elapsed": 2,
     "status": "ok",
     "timestamp": 1670615059302,
     "user": {
      "displayName": "Mert Karabacak",
      "userId": "14308977132914475412"
     },
     "user_tz": 300
    },
    "id": "3e51b8d4",
    "outputId": "a28769af-33a7-41c7-af29-3f474aaed593"
   },
   "outputs": [],
   "source": [
    "#Apply exclusion criteria for ASA class.\n",
    "\n",
    "data = data[(data['ASACLAS'] != '4-Life Threat') & (data['ASACLAS'] != '5-Moribund') & (data['ASACLAS'] != 'None assigned')]\n",
    "\n",
    "data['ASACLAS'].value_counts(normalize=False, dropna=False)"
   ]
  },
  {
   "cell_type": "code",
   "execution_count": null,
   "id": "ab9d9c55",
   "metadata": {
    "colab": {
     "base_uri": "https://localhost:8080/"
    },
    "executionInfo": {
     "elapsed": 265,
     "status": "ok",
     "timestamp": 1670615062508,
     "user": {
      "displayName": "Mert Karabacak",
      "userId": "14308977132914475412"
     },
     "user_tz": 300
    },
    "id": "ab9d9c55",
    "outputId": "7b81a602-65f7-46fb-d1a2-210067ed5663"
   },
   "outputs": [],
   "source": [
    "#Create BMI column.\n",
    "\n",
    "lbs_to_kg_ratio = 0.453592\n",
    "inch_to_meter_ratio = 0.0254\n",
    "\n",
    "data['HEIGHT'] *= inch_to_meter_ratio\n",
    "data['WEIGHT'] *= lbs_to_kg_ratio\n",
    "\n",
    "data['BMI'] = data['WEIGHT']/(data['HEIGHT']**2)\n",
    "print(min(data['BMI']))\n",
    "print(max(data['BMI']))"
   ]
  },
  {
   "cell_type": "code",
   "execution_count": null,
   "id": "fbf1c8ec",
   "metadata": {
    "colab": {
     "base_uri": "https://localhost:8080/"
    },
    "executionInfo": {
     "elapsed": 97,
     "status": "ok",
     "timestamp": 1670615063737,
     "user": {
      "displayName": "Mert Karabacak",
      "userId": "14308977132914475412"
     },
     "user_tz": 300
    },
    "id": "fbf1c8ec",
    "outputId": "572f1f40-0b3f-422b-f125-1146f1ae3664"
   },
   "outputs": [],
   "source": [
    "#Check data for race.\n",
    "\n",
    "data['RACE_NEW'].value_counts(normalize=False, dropna=False)"
   ]
  },
  {
   "cell_type": "code",
   "execution_count": null,
   "id": "58a7a358",
   "metadata": {
    "colab": {
     "base_uri": "https://localhost:8080/"
    },
    "executionInfo": {
     "elapsed": 97,
     "status": "ok",
     "timestamp": 1670615065504,
     "user": {
      "displayName": "Mert Karabacak",
      "userId": "14308977132914475412"
     },
     "user_tz": 300
    },
    "id": "58a7a358",
    "outputId": "b6b97ffc-0094-4e7e-e35e-fc1e4469370d"
   },
   "outputs": [],
   "source": [
    "#Check data for ethnicity.\n",
    "\n",
    "data['ETHNICITY_HISPANIC'].value_counts(normalize=False, dropna=False)"
   ]
  },
  {
   "cell_type": "code",
   "execution_count": null,
   "id": "edfeff13",
   "metadata": {
    "colab": {
     "base_uri": "https://localhost:8080/"
    },
    "executionInfo": {
     "elapsed": 102,
     "status": "ok",
     "timestamp": 1670615066658,
     "user": {
      "displayName": "Mert Karabacak",
      "userId": "14308977132914475412"
     },
     "user_tz": 300
    },
    "id": "edfeff13",
    "outputId": "5c29caaf-ec3c-4d3a-99b3-54fa233b3d68"
   },
   "outputs": [],
   "source": [
    "#Simplify race and ethnicity columns.\n",
    "\n",
    "data.loc[data['RACE_NEW'] == 'White', 'RACE'] = 'White'\n",
    "data.loc[data['RACE_NEW'] == 'Black or African American', 'RACE'] = 'Black or African American'\n",
    "data.loc[data['RACE_NEW'] == 'Asian', 'RACE'] = 'Asian'\n",
    "data.loc[data['RACE_NEW'] == 'American Indian or Alaska Native', 'RACE'] = 'Other'\n",
    "data.loc[data['RACE_NEW'] == 'Native Hawaiian or Other Pacific Islander', 'RACE'] = 'Other'\n",
    "data.loc[data['RACE_NEW'] == 'Native Hawaiian or Pacific Islander', 'RACE'] = 'Other'\n",
    "data.loc[data['RACE_NEW'] == 'Some Other Race', 'RACE'] = 'Other'\n",
    "\n",
    "data.loc[data['ETHNICITY_HISPANIC'] == 'Yes', 'RACE'] = 'Hispanic'\n",
    "\n",
    "data['RACE'].value_counts(normalize=False, dropna=False)"
   ]
  },
  {
   "cell_type": "code",
   "execution_count": null,
   "id": "058b3c3d",
   "metadata": {
    "colab": {
     "base_uri": "https://localhost:8080/"
    },
    "executionInfo": {
     "elapsed": 1,
     "status": "ok",
     "timestamp": 1670615067667,
     "user": {
      "displayName": "Mert Karabacak",
      "userId": "14308977132914475412"
     },
     "user_tz": 300
    },
    "id": "058b3c3d",
    "outputId": "6e5bfe6d-833e-4281-b913-8becd964c1de"
   },
   "outputs": [],
   "source": [
    "#Check data for transfer status.\n",
    "\n",
    "data['TRANST'].value_counts(normalize=False, dropna=False)"
   ]
  },
  {
   "cell_type": "code",
   "execution_count": null,
   "id": "c3af9dc4",
   "metadata": {
    "colab": {
     "base_uri": "https://localhost:8080/"
    },
    "executionInfo": {
     "elapsed": 2,
     "status": "ok",
     "timestamp": 1670615069153,
     "user": {
      "displayName": "Mert Karabacak",
      "userId": "14308977132914475412"
     },
     "user_tz": 300
    },
    "id": "c3af9dc4",
    "outputId": "edc5d67a-258f-45ed-c40b-dd054b44f9c3"
   },
   "outputs": [],
   "source": [
    "#Simplify transfer status column.\n",
    "\n",
    "data.loc[data['TRANST'] == 'Not transferred (admitted from home)', 'TRANST'] = 'Not transferred'\n",
    "data.loc[data['TRANST'] == 'Nursing home - Chronic care - Intermediate care', 'TRANST'] = 'Transferred'\n",
    "data.loc[data['TRANST'] == 'From acute care hospital inpatient', 'TRANST'] = 'Transferred'\n",
    "data.loc[data['TRANST'] == 'Outside emergency department', 'TRANST'] = 'Transferred'\n",
    "data.loc[data['TRANST'] == 'Transfer from other', 'TRANST'] = 'Transferred'\n",
    "\n",
    "data['TRANST'].value_counts(normalize=False, dropna=False)"
   ]
  },
  {
   "cell_type": "code",
   "execution_count": null,
   "id": "ba88fac8",
   "metadata": {
    "colab": {
     "base_uri": "https://localhost:8080/"
    },
    "executionInfo": {
     "elapsed": 93,
     "status": "ok",
     "timestamp": 1670615069960,
     "user": {
      "displayName": "Mert Karabacak",
      "userId": "14308977132914475412"
     },
     "user_tz": 300
    },
    "id": "ba88fac8",
    "outputId": "308d2b96-6778-4252-ef3a-affcc23d668c"
   },
   "outputs": [],
   "source": [
    "#Check data for dyspnea.\n",
    "\n",
    "data['DYSPNEA'].value_counts(normalize=False, dropna=False)"
   ]
  },
  {
   "cell_type": "code",
   "execution_count": null,
   "id": "5557e3e3",
   "metadata": {
    "colab": {
     "base_uri": "https://localhost:8080/"
    },
    "executionInfo": {
     "elapsed": 94,
     "status": "ok",
     "timestamp": 1670615070694,
     "user": {
      "displayName": "Mert Karabacak",
      "userId": "14308977132914475412"
     },
     "user_tz": 300
    },
    "id": "5557e3e3",
    "outputId": "fb9cce85-aece-4f6c-b054-d7c0e1efa319"
   },
   "outputs": [],
   "source": [
    "#Simplify dyspnea column.\n",
    "\n",
    "data.loc[data['DYSPNEA'] == 'No', 'DYSPNEA'] = 'No'\n",
    "data.loc[data['DYSPNEA'] == 'MODERATE EXERTION', 'DYSPNEA'] = 'Yes'\n",
    "data.loc[data['DYSPNEA'] == 'AT REST', 'DYSPNEA'] = 'Yes'\n",
    "\n",
    "data['DYSPNEA'].value_counts(normalize=False, dropna=False)"
   ]
  },
  {
   "cell_type": "code",
   "execution_count": null,
   "id": "238ad170",
   "metadata": {
    "colab": {
     "base_uri": "https://localhost:8080/"
    },
    "executionInfo": {
     "elapsed": 5,
     "status": "ok",
     "timestamp": 1670615071968,
     "user": {
      "displayName": "Mert Karabacak",
      "userId": "14308977132914475412"
     },
     "user_tz": 300
    },
    "id": "238ad170",
    "outputId": "5bec8bff-a36f-4d79-af66-5de5a7c672b1"
   },
   "outputs": [],
   "source": [
    "#Check data for diabetes status.\n",
    "\n",
    "data['DIABETES'].value_counts(normalize=False, dropna=False)"
   ]
  },
  {
   "cell_type": "code",
   "execution_count": null,
   "id": "d0378434",
   "metadata": {
    "colab": {
     "base_uri": "https://localhost:8080/"
    },
    "executionInfo": {
     "elapsed": 103,
     "status": "ok",
     "timestamp": 1670615072423,
     "user": {
      "displayName": "Mert Karabacak",
      "userId": "14308977132914475412"
     },
     "user_tz": 300
    },
    "id": "d0378434",
    "outputId": "2fbd90fc-463c-43b9-a695-f1569bfb7e88"
   },
   "outputs": [],
   "source": [
    "#Simplify diabetes column.\n",
    "\n",
    "data.loc[data['DIABETES'] == 'NO', 'DIABETES'] = 'No'\n",
    "data.loc[data['DIABETES'] == 'NON-INSULIN', 'DIABETES'] = 'Yes'\n",
    "data.loc[data['DIABETES'] == 'INSULIN', 'DIABETES'] = 'Yes'\n",
    "\n",
    "data['DIABETES'].value_counts(normalize=False, dropna=False)"
   ]
  },
  {
   "cell_type": "code",
   "execution_count": null,
   "id": "2aca45cc",
   "metadata": {
    "id": "2aca45cc"
   },
   "outputs": [],
   "source": [
    "#Cast ASA class as ordered categorical.\n",
    "\n",
    "cat_type1 = CategoricalDtype(categories=['1-No Disturb','2-Mild Disturb','3-Severe Disturb'], ordered=True)\n",
    "data['ASACLAS'].astype(cat_type1)"
   ]
  },
  {
   "cell_type": "code",
   "execution_count": null,
   "id": "19fb0646",
   "metadata": {
    "id": "19fb0646"
   },
   "outputs": [],
   "source": [
    "#Cast functional status as ordered categorical.\n",
    "\n",
    "cat_type2 = CategoricalDtype(categories=['Unknown','Independent','Partiallly Dependent', 'Totally Dependent'], ordered=True)\n",
    "data['FNSTATUS2'].astype(cat_type2)"
   ]
  },
  {
   "cell_type": "code",
   "execution_count": null,
   "id": "9fb66caf",
   "metadata": {
    "id": "9fb66caf"
   },
   "outputs": [],
   "source": [
    "#Convert 90+ to 91 and AGE column to integer.\n",
    "\n",
    "data.loc[data['AGE'] == '90+', 'AGE'] = 91\n",
    "data['AGE'] = pd.to_numeric(data['AGE'], downcast='integer')"
   ]
  },
  {
   "cell_type": "code",
   "execution_count": null,
   "id": "ace8b0df",
   "metadata": {
    "colab": {
     "base_uri": "https://localhost:8080/"
    },
    "executionInfo": {
     "elapsed": 2,
     "status": "ok",
     "timestamp": 1670615075724,
     "user": {
      "displayName": "Mert Karabacak",
      "userId": "14308977132914475412"
     },
     "user_tz": 300
    },
    "id": "ace8b0df",
    "outputId": "da71f1e2-cdc3-44e0-d1d4-acea6208b9ec"
   },
   "outputs": [],
   "source": [
    "#Show patients for each CPT code.\n",
    "\n",
    "data['CPT'].value_counts()"
   ]
  },
  {
   "cell_type": "code",
   "execution_count": null,
   "id": "2c7063b3",
   "metadata": {
    "colab": {
     "base_uri": "https://localhost:8080/"
    },
    "executionInfo": {
     "elapsed": 130,
     "status": "ok",
     "timestamp": 1670615077339,
     "user": {
      "displayName": "Mert Karabacak",
      "userId": "14308977132914475412"
     },
     "user_tz": 300
    },
    "id": "2c7063b3",
    "outputId": "e4444ad9-9ff3-48a6-9a5a-6e74b9f1eded"
   },
   "outputs": [],
   "source": [
    "#Classify tumors into extradural vs. intradural and create a column named 'IEDUR' for it.\n",
    "\n",
    "data.loc[data['CPT'] == 63082, 'LEVELS'] = 'Multiple'\n",
    "data.loc[data['CONCPT1'] == 63082, 'LEVELS'] = 'Multiple'\n",
    "data.loc[data['CONCPT2'] == 63082, 'LEVELS'] = 'Multiple'\n",
    "data.loc[data['CONCPT3'] == 63082, 'LEVELS'] = 'Multiple'\n",
    "data.loc[data['CONCPT4'] == 63082, 'LEVELS'] = 'Multiple'\n",
    "data.loc[data['CONCPT5'] == 63082, 'LEVELS'] = 'Multiple'\n",
    "data.loc[data['CONCPT6'] == 63082, 'LEVELS'] = 'Multiple'\n",
    "data.loc[data['CONCPT7'] == 63082, 'LEVELS'] = 'Multiple'\n",
    "data.loc[data['CONCPT9'] == 63082, 'LEVELS'] = 'Multiple'\n",
    "data.loc[data['CONCPT10'] == 63082, 'LEVELS'] = 'Multiple'\n",
    "data.loc[data['OTHERCPT1'] == 63082, 'LEVELS'] = 'Multiple'\n",
    "data.loc[data['OTHERCPT2'] == 63082, 'LEVELS'] = 'Multiple'\n",
    "data.loc[data['OTHERCPT3'] == 63082, 'LEVELS'] = 'Multiple'\n",
    "data.loc[data['OTHERCPT4'] == 63082, 'LEVELS'] = 'Multiple'\n",
    "data.loc[data['OTHERCPT5'] == 63082, 'LEVELS'] = 'Multiple'\n",
    "data.loc[data['OTHERCPT6'] == 63082, 'LEVELS'] = 'Multiple'\n",
    "data.loc[data['OTHERCPT7'] == 63082, 'LEVELS'] = 'Multiple'\n",
    "data.loc[data['OTHERCPT9'] == 63082, 'LEVELS'] = 'Multiple'\n",
    "data.loc[data['OTHERCPT10'] == 63082, 'LEVELS'] = 'Multiple'\n",
    "\n",
    "data.loc[data['LEVELS'] != 'Multiple', 'LEVELS'] = 'Single'\n",
    "\n",
    "data['LEVELS'].value_counts(dropna=False)"
   ]
  },
  {
   "cell_type": "code",
   "execution_count": null,
   "id": "89c3263c",
   "metadata": {
    "colab": {
     "base_uri": "https://localhost:8080/"
    },
    "executionInfo": {
     "elapsed": 2,
     "status": "ok",
     "timestamp": 1670615078460,
     "user": {
      "displayName": "Mert Karabacak",
      "userId": "14308977132914475412"
     },
     "user_tz": 300
    },
    "id": "89c3263c",
    "outputId": "75593447-d083-4700-cb79-eef477c186bd"
   },
   "outputs": [],
   "source": [
    "#See LOS per patient.\n",
    "\n",
    "data['TOTHLOS'].value_counts()"
   ]
  },
  {
   "cell_type": "code",
   "execution_count": null,
   "id": "2zHKamnxDlcr",
   "metadata": {
    "id": "2zHKamnxDlcr"
   },
   "outputs": [],
   "source": [
    "#Drop patients with unknown LOS.\n",
    "\n",
    "data = data[data['TOTHLOS'].notna()]"
   ]
  },
  {
   "cell_type": "code",
   "execution_count": null,
   "id": "YOVkj1Ozj_pD",
   "metadata": {
    "colab": {
     "base_uri": "https://localhost:8080/"
    },
    "executionInfo": {
     "elapsed": 2,
     "status": "ok",
     "timestamp": 1670615080901,
     "user": {
      "displayName": "Mert Karabacak",
      "userId": "14308977132914475412"
     },
     "user_tz": 300
    },
    "id": "YOVkj1Ozj_pD",
    "outputId": "fe6d28c6-3bbd-42e3-f02a-d99b584cb75b"
   },
   "outputs": [],
   "source": [
    "#Show LOS after dropping patients with unknown LOS.\n",
    "\n",
    "data['TOTHLOS'].value_counts(dropna=False)"
   ]
  },
  {
   "cell_type": "code",
   "execution_count": null,
   "id": "fdfccc33",
   "metadata": {
    "colab": {
     "base_uri": "https://localhost:8080/"
    },
    "executionInfo": {
     "elapsed": 104,
     "status": "ok",
     "timestamp": 1670615081599,
     "user": {
      "displayName": "Mert Karabacak",
      "userId": "14308977132914475412"
     },
     "user_tz": 300
    },
    "id": "fdfccc33",
    "outputId": "03c2f3b0-33ba-41e2-f32a-80f459a2a324"
   },
   "outputs": [],
   "source": [
    "#See 75th percentile of LOS.\n",
    "data.TOTHLOS.quantile(0.75)"
   ]
  },
  {
   "cell_type": "code",
   "execution_count": null,
   "id": "25d22d50",
   "metadata": {
    "id": "25d22d50"
   },
   "outputs": [],
   "source": [
    "#Convert total length of stay into categorical data in a column named 'LOS'.\n",
    "\n",
    "data.loc[data['TOTHLOS'] <= data.TOTHLOS.quantile(0.75), 'LOS'] = 'No'\n",
    "data.loc[data['TOTHLOS'] > data.TOTHLOS.quantile(0.75), 'LOS'] = 'Yes'"
   ]
  },
  {
   "cell_type": "code",
   "execution_count": null,
   "id": "00cadcb7",
   "metadata": {
    "colab": {
     "base_uri": "https://localhost:8080/"
    },
    "executionInfo": {
     "elapsed": 2,
     "status": "ok",
     "timestamp": 1670615083220,
     "user": {
      "displayName": "Mert Karabacak",
      "userId": "14308977132914475412"
     },
     "user_tz": 300
    },
    "id": "00cadcb7",
    "outputId": "14e0afc9-c33f-40f3-c61b-b46d5f055ca3"
   },
   "outputs": [],
   "source": [
    "#Show prolonged LOS as categorical.\n",
    "\n",
    "data['LOS'].value_counts(dropna=False)"
   ]
  },
  {
   "cell_type": "code",
   "execution_count": null,
   "id": "ca132d46",
   "metadata": {
    "id": "ca132d46"
   },
   "outputs": [],
   "source": [
    "#Define major complications.\n",
    "\n",
    "data['MAJRCOMP'] = data['NWNDINFD'] + data['NORGSPCSSI'] + data['NDEHIS'] + data['NREINTUB'] + data['NPULEMBOL'] + data['NFAILWEAN'] + data['NRENAINSF'] + data['NOPRENAFL'] + data['NCNSCVA'] + data['NCDARREST'] + data['NCDMI'] + data['NOTHBLEED'] + data['NOTHDVT'] + data['NOTHSYSEP'] + data['NOTHSESHOCK']"
   ]
  },
  {
   "cell_type": "code",
   "execution_count": null,
   "id": "a273cdf1",
   "metadata": {
    "colab": {
     "base_uri": "https://localhost:8080/"
    },
    "executionInfo": {
     "elapsed": 1,
     "status": "ok",
     "timestamp": 1670615084920,
     "user": {
      "displayName": "Mert Karabacak",
      "userId": "14308977132914475412"
     },
     "user_tz": 300
    },
    "id": "a273cdf1",
    "outputId": "a86ea621-83bd-433e-f31e-020a2142bac8"
   },
   "outputs": [],
   "source": [
    "#Show number of major complications per patient.\n",
    "\n",
    "data['MAJRCOMP'].value_counts()"
   ]
  },
  {
   "cell_type": "code",
   "execution_count": null,
   "id": "fede78c8",
   "metadata": {
    "id": "fede78c8"
   },
   "outputs": [],
   "source": [
    "#Convert major complications into categorical data in a column named 'COMP'.\n",
    "\n",
    "data.loc[data['MAJRCOMP'] == 0, 'COMP'] = 'No'\n",
    "data.loc[data['MAJRCOMP'] >= 1, 'COMP'] = 'Yes'"
   ]
  },
  {
   "cell_type": "code",
   "execution_count": null,
   "id": "aa5c95a3",
   "metadata": {
    "colab": {
     "base_uri": "https://localhost:8080/"
    },
    "executionInfo": {
     "elapsed": 91,
     "status": "ok",
     "timestamp": 1670615091689,
     "user": {
      "displayName": "Mert Karabacak",
      "userId": "14308977132914475412"
     },
     "user_tz": 300
    },
    "id": "aa5c95a3",
    "outputId": "93b57e4a-3f37-4511-9317-8052a0293e62"
   },
   "outputs": [],
   "source": [
    "#Show major complications as categorical.\n",
    "\n",
    "data['COMP'].value_counts()"
   ]
  },
  {
   "cell_type": "code",
   "execution_count": null,
   "id": "9432HuAcjwfO",
   "metadata": {
    "id": "9432HuAcjwfO"
   },
   "outputs": [],
   "source": [
    "#Drop patients with unknown major complications status.\n",
    "\n",
    "data = data[data['COMP'].notna()]"
   ]
  },
  {
   "cell_type": "code",
   "execution_count": null,
   "id": "n9nxQIeaj3pH",
   "metadata": {
    "colab": {
     "base_uri": "https://localhost:8080/"
    },
    "executionInfo": {
     "elapsed": 1,
     "status": "ok",
     "timestamp": 1670615094337,
     "user": {
      "displayName": "Mert Karabacak",
      "userId": "14308977132914475412"
     },
     "user_tz": 300
    },
    "id": "n9nxQIeaj3pH",
    "outputId": "79a3bed6-c628-4417-d68b-0aa05be501b5"
   },
   "outputs": [],
   "source": [
    "#Show major complication status after dropping patients with unknown major complication status.\n",
    "\n",
    "data['COMP'].value_counts(dropna=False)"
   ]
  },
  {
   "cell_type": "code",
   "execution_count": null,
   "id": "afff01b4",
   "metadata": {
    "colab": {
     "base_uri": "https://localhost:8080/"
    },
    "executionInfo": {
     "elapsed": 1,
     "status": "ok",
     "timestamp": 1670615095777,
     "user": {
      "displayName": "Mert Karabacak",
      "userId": "14308977132914475412"
     },
     "user_tz": 300
    },
    "id": "afff01b4",
    "outputId": "2a44357d-dca9-40f2-e6b8-b3c15b2277ff"
   },
   "outputs": [],
   "source": [
    "#Show readmission status.\n",
    "\n",
    "data['READMISSION1'].value_counts(dropna=False)"
   ]
  },
  {
   "cell_type": "code",
   "execution_count": null,
   "id": "678588ba",
   "metadata": {
    "id": "678588ba"
   },
   "outputs": [],
   "source": [
    "#Drop patients with unknown readmission status.\n",
    "\n",
    "data = data[data['READMISSION1'].notna()]"
   ]
  },
  {
   "cell_type": "code",
   "execution_count": null,
   "id": "40d739c5",
   "metadata": {
    "colab": {
     "base_uri": "https://localhost:8080/"
    },
    "executionInfo": {
     "elapsed": 98,
     "status": "ok",
     "timestamp": 1670615097925,
     "user": {
      "displayName": "Mert Karabacak",
      "userId": "14308977132914475412"
     },
     "user_tz": 300
    },
    "id": "40d739c5",
    "outputId": "549a89bd-66c6-4ae0-c1e4-22c986db1483"
   },
   "outputs": [],
   "source": [
    "#Show readmission status after dropping patients with unknown readmission status.\n",
    "\n",
    "data['READMISSION1'].value_counts(dropna=False)"
   ]
  },
  {
   "cell_type": "code",
   "execution_count": null,
   "id": "b8c302ed",
   "metadata": {
    "colab": {
     "base_uri": "https://localhost:8080/"
    },
    "executionInfo": {
     "elapsed": 97,
     "status": "ok",
     "timestamp": 1670615098809,
     "user": {
      "displayName": "Mert Karabacak",
      "userId": "14308977132914475412"
     },
     "user_tz": 300
    },
    "id": "b8c302ed",
    "outputId": "1cce2785-977b-4baf-8364-c9ef8ef56f73"
   },
   "outputs": [],
   "source": [
    "#Show discharge status.\n",
    "\n",
    "data['DISCHDEST'].value_counts(dropna=False)"
   ]
  },
  {
   "cell_type": "code",
   "execution_count": null,
   "id": "4e3ce5cb",
   "metadata": {
    "id": "4e3ce5cb"
   },
   "outputs": [],
   "source": [
    "#Convert discharge destination into binary data (home vs. non-home discharge) in a column named 'DISCHARGE'.\n",
    "\n",
    "data.loc[data['DISCHDEST'] == 'Home', 'DISCHARGE'] = 'No'\n",
    "data.loc[data['DISCHDEST'] == 'Facility Which was Home', 'DISCHARGE'] = 'No'\n",
    "data.loc[data['DISCHDEST'] == 'Rehab', 'DISCHARGE'] = 'Yes'\n",
    "data.loc[data['DISCHDEST'] == 'Skilled Care, Not Home', 'DISCHARGE'] = 'Yes'\n",
    "data.loc[data['DISCHDEST'] == 'Separate Acute Care', 'DISCHARGE'] = 'Yes'\n",
    "data.loc[data['DISCHDEST'] == 'Multi-level Senior Community', 'DISCHARGE'] = 'Yes'"
   ]
  },
  {
   "cell_type": "code",
   "execution_count": null,
   "id": "8785261c",
   "metadata": {
    "colab": {
     "base_uri": "https://localhost:8080/"
    },
    "executionInfo": {
     "elapsed": 540,
     "status": "ok",
     "timestamp": 1670615102340,
     "user": {
      "displayName": "Mert Karabacak",
      "userId": "14308977132914475412"
     },
     "user_tz": 300
    },
    "id": "8785261c",
    "outputId": "ba107f90-0258-487b-93fa-a0ea729dcf29"
   },
   "outputs": [],
   "source": [
    "#Show discharge destination status after converting it to binary data.\n",
    "\n",
    "data['DISCHARGE'].value_counts(dropna=False)"
   ]
  },
  {
   "cell_type": "code",
   "execution_count": null,
   "id": "191e7b5a",
   "metadata": {
    "id": "191e7b5a"
   },
   "outputs": [],
   "source": [
    "#Drop patients with unknown discharge status.\n",
    "\n",
    "data = data[data['DISCHARGE'].notna()]"
   ]
  },
  {
   "cell_type": "code",
   "execution_count": null,
   "id": "c9a5c184",
   "metadata": {
    "colab": {
     "base_uri": "https://localhost:8080/"
    },
    "executionInfo": {
     "elapsed": 98,
     "status": "ok",
     "timestamp": 1670615103292,
     "user": {
      "displayName": "Mert Karabacak",
      "userId": "14308977132914475412"
     },
     "user_tz": 300
    },
    "id": "c9a5c184",
    "outputId": "543adeea-2df0-4f3f-f967-4522216937de"
   },
   "outputs": [],
   "source": [
    "#Show discharge status after dropping patients with unknown discharge status.\n",
    "\n",
    "data['DISCHARGE'].value_counts(dropna=False)"
   ]
  },
  {
   "cell_type": "code",
   "execution_count": null,
   "id": "uFesv4eVkbZA",
   "metadata": {
    "colab": {
     "base_uri": "https://localhost:8080/"
    },
    "executionInfo": {
     "elapsed": 102,
     "status": "ok",
     "timestamp": 1670615106865,
     "user": {
      "displayName": "Mert Karabacak",
      "userId": "14308977132914475412"
     },
     "user_tz": 300
    },
    "id": "uFesv4eVkbZA",
    "outputId": "6ad24534-2975-40b4-b8a9-0c8d22ada7c5"
   },
   "outputs": [],
   "source": [
    "#Merge adverse outcomes in a new column 'ADVERSE_OUTCOME'.\n",
    "\n",
    "data.loc[data['LOS'] == 'Yes', 'ADVERSE_OUTCOME'] = 'Yes'\n",
    "data.loc[data['COMP'] == 'Yes', 'ADVERSE_OUTCOME'] = 'Yes'\n",
    "data.loc[data['READMISSION1'] == 'Yes', 'ADVERSE_OUTCOME'] = 'Yes'\n",
    "data.loc[data['DISCHARGE'] == 'Yes', 'ADVERSE_OUTCOME'] = 'Yes'\n",
    "data.loc[data['ADVERSE_OUTCOME'] != 'Yes', 'ADVERSE_OUTCOME'] = 'No'\n",
    "\n",
    "data['ADVERSE_OUTCOME'].value_counts(dropna=False)"
   ]
  },
  {
   "cell_type": "code",
   "execution_count": null,
   "id": "aa861235",
   "metadata": {
    "colab": {
     "base_uri": "https://localhost:8080/"
    },
    "executionInfo": {
     "elapsed": 298,
     "status": "ok",
     "timestamp": 1670615119342,
     "user": {
      "displayName": "Mert Karabacak",
      "userId": "14308977132914475412"
     },
     "user_tz": 300
    },
    "id": "aa861235",
    "outputId": "597c8291-7dd1-4e85-852a-1843bbb2dc24"
   },
   "outputs": [],
   "source": [
    "#Check data.\n",
    "\n",
    "data.shape"
   ]
  },
  {
   "cell_type": "code",
   "execution_count": null,
   "id": "55ead6a8",
   "metadata": {
    "colab": {
     "base_uri": "https://localhost:8080/"
    },
    "executionInfo": {
     "elapsed": 2,
     "status": "ok",
     "timestamp": 1670615119432,
     "user": {
      "displayName": "Mert Karabacak",
      "userId": "14308977132914475412"
     },
     "user_tz": 300
    },
    "id": "55ead6a8",
    "outputId": "69930da9-16ad-4de4-95c6-96fa0724d0c8"
   },
   "outputs": [],
   "source": [
    "#See all columns.\n",
    "\n",
    "print(list(data.columns))"
   ]
  },
  {
   "cell_type": "code",
   "execution_count": null,
   "id": "a7b333b1",
   "metadata": {
    "id": "a7b333b1"
   },
   "outputs": [],
   "source": [
    "#Drop unwanted columns.\n",
    "\n",
    "drop = ['RACE_NEW', 'ETHNICITY_HISPANIC', 'CPT',  'DISCHDEST', 'ANESTHES', 'ELECTSURG', 'PRSEPIS', 'OTHERCPT1', 'OTHERCPT2', 'OTHERCPT3', 'OTHERCPT4', 'OTHERCPT5', 'OTHERCPT6', 'OTHERCPT7', 'OTHERCPT8', 'OTHERCPT9', 'OTHERCPT10', 'CONCPT1', 'CONCPT2', 'CONCPT3', 'CONCPT4', 'CONCPT5', 'CONCPT6', 'CONCPT7', 'CONCPT8', 'CONCPT9', 'CONCPT10', 'EMERGNCY', 'WNDCLAS', 'OPTIME', 'TOTHLOS', 'HTOODAY', 'NSUPINFEC', 'NWNDINFD', 'NORGSPCSSI', 'NDEHIS', 'NOUPNEUMO', 'NREINTUB', 'NPULEMBOL', 'NFAILWEAN', 'NRENAINSF', 'NOPRENAFL', 'NURNINFEC', 'NCNSCVA', 'NCDARREST', 'NCDMI', 'NOTHBLEED', 'NOTHDVT', 'NOTHSYSEP', 'NOTHSESHOCK', 'PODIAG', 'PODIAG10', 'STILLINHOSP', 'CPT_EX', 'MAJRCOMP']\n",
    "data.drop(drop, axis=1, inplace=True)"
   ]
  },
  {
   "cell_type": "code",
   "execution_count": null,
   "id": "5f8c4150",
   "metadata": {
    "id": "5f8c4150"
   },
   "outputs": [],
   "source": [
    "#Save data.\n",
    "\n",
    "data.to_csv('/content/drive/MyDrive/NSQIP-ACC/acc_clean.csv')"
   ]
  },
  {
   "cell_type": "code",
   "execution_count": null,
   "id": "11efb52b",
   "metadata": {
    "colab": {
     "base_uri": "https://localhost:8080/"
    },
    "executionInfo": {
     "elapsed": 3,
     "status": "ok",
     "timestamp": 1670615122532,
     "user": {
      "displayName": "Mert Karabacak",
      "userId": "14308977132914475412"
     },
     "user_tz": 300
    },
    "id": "11efb52b",
    "outputId": "3dc04380-1d5a-4257-eb09-99e4f296a510"
   },
   "outputs": [],
   "source": [
    "#See categorical and continuous variables.\n",
    "\n",
    "print('Numerical columns: {}'.format(list(data.select_dtypes('number').columns)))\n",
    "print()\n",
    "print('Categorical columns: {}'.format(list(data.select_dtypes('object').columns)))"
   ]
  },
  {
   "cell_type": "code",
   "execution_count": null,
   "id": "282afb2e",
   "metadata": {
    "id": "282afb2e"
   },
   "outputs": [],
   "source": [
    "#Define numerical and categorical columns.\n",
    "\n",
    "num_cols = ['AGE', 'HEIGHT', 'WEIGHT', 'PRSODM', 'PRBUN', 'PRCREAT', 'PRALBUM', 'PRBILI', 'PRSGOT', 'PRALKPH', 'PRWBC', 'PRHCT', 'PRPLATE', 'PRPTT', 'PRINR', 'PRPT', 'BMI']\n",
    "\n",
    "cat_cols = ['SEX', 'INOUT', 'TRANST', 'SURGSPEC', 'DIABETES', 'SMOKE', 'DYSPNEA', 'FNSTATUS2', 'VENTILAT', 'HXCOPD', 'ASCITES', 'HXCHF', 'HYPERMED', 'RENAFAIL', 'DIALYSIS', 'DISCANCR', 'WNDINF', 'STEROID', 'WTLOSS', 'BLEEDDIS', 'TRANSFUS', 'ASACLAS', 'READMISSION1', 'RACE', 'LEVELS', 'COMP', 'LOS', 'DISCHARGE', 'ADVERSE_OUTCOME']"
   ]
  },
  {
   "cell_type": "code",
   "execution_count": null,
   "id": "f7a6bff0",
   "metadata": {
    "colab": {
     "base_uri": "https://localhost:8080/"
    },
    "executionInfo": {
     "elapsed": 103,
     "status": "ok",
     "timestamp": 1670615124180,
     "user": {
      "displayName": "Mert Karabacak",
      "userId": "14308977132914475412"
     },
     "user_tz": 300
    },
    "id": "f7a6bff0",
    "outputId": "5b1bb20f-91a6-4a0f-a4ee-0e5679ad87b6"
   },
   "outputs": [],
   "source": [
    "#Check missing values for numerical columns.\n",
    "\n",
    "missing_num = data[num_cols].isnull().mean().round(4).mul(100).sort_values(ascending=False)\n",
    "\n",
    "missing_num = pd.DataFrame(missing_num)\n",
    "\n",
    "missing_num.columns = ['Value']\n",
    "\n",
    "missing_num = missing_num[missing_num['Value'] > 0]\n",
    "\n",
    "print(missing_num.index)\n",
    "\n",
    "missing_num = missing_num[missing_num['Value'] > 25]\n",
    "\n",
    "missing_num = list(missing_num.index)\n",
    "\n",
    "print(missing_num)"
   ]
  },
  {
   "cell_type": "code",
   "execution_count": null,
   "id": "e128cfb5",
   "metadata": {
    "id": "e128cfb5"
   },
   "outputs": [],
   "source": [
    "#Drop numerical columns with missing values over 25%.\n",
    "\n",
    "data.drop(missing_num, axis=1, inplace=True)"
   ]
  },
  {
   "cell_type": "code",
   "execution_count": null,
   "id": "4756b292",
   "metadata": {
    "colab": {
     "base_uri": "https://localhost:8080/"
    },
    "executionInfo": {
     "elapsed": 4,
     "status": "ok",
     "timestamp": 1670615126257,
     "user": {
      "displayName": "Mert Karabacak",
      "userId": "14308977132914475412"
     },
     "user_tz": 300
    },
    "id": "4756b292",
    "outputId": "4101d042-7b7e-4cc8-efb7-407280399607"
   },
   "outputs": [],
   "source": [
    "#Define new numerical columns.\n",
    "\n",
    "num_cols = [x for x in num_cols if x not in missing_num]\n",
    "print(num_cols)"
   ]
  },
  {
   "cell_type": "code",
   "execution_count": null,
   "id": "ff8609cd",
   "metadata": {
    "id": "ff8609cd"
   },
   "outputs": [],
   "source": [
    "#Impute missing numerical values.\n",
    "\n",
    "num_imputer = KNNImputer(n_neighbors=5, weights='uniform', metric='nan_euclidean')\n",
    "data[num_cols] = num_imputer.fit_transform(data[num_cols])"
   ]
  },
  {
   "cell_type": "code",
   "execution_count": null,
   "id": "0dac04c6",
   "metadata": {
    "colab": {
     "base_uri": "https://localhost:8080/"
    },
    "executionInfo": {
     "elapsed": 120,
     "status": "ok",
     "timestamp": 1670615127920,
     "user": {
      "displayName": "Mert Karabacak",
      "userId": "14308977132914475412"
     },
     "user_tz": 300
    },
    "id": "0dac04c6",
    "outputId": "9e72e518-0990-42d8-d584-fa99347bfb28"
   },
   "outputs": [],
   "source": [
    "#Check numerical variables with missing values after imputation.\n",
    "\n",
    "data[num_cols].isnull().mean().round(4).mul(100).sort_values(ascending=False)"
   ]
  },
  {
   "cell_type": "code",
   "execution_count": null,
   "id": "01b6490e",
   "metadata": {
    "colab": {
     "base_uri": "https://localhost:8080/"
    },
    "executionInfo": {
     "elapsed": 2,
     "status": "ok",
     "timestamp": 1670615128040,
     "user": {
      "displayName": "Mert Karabacak",
      "userId": "14308977132914475412"
     },
     "user_tz": 300
    },
    "id": "01b6490e",
    "outputId": "04bb1f8d-583f-4687-f387-a71ae9c847ee"
   },
   "outputs": [],
   "source": [
    "#Check missing values for categorical columns.\n",
    "\n",
    "missing_cat = data[cat_cols].isnull().mean().round(4).mul(100).sort_values(ascending=False)\n",
    "\n",
    "missing_cat = pd.DataFrame(missing_cat)\n",
    "\n",
    "missing_cat.columns = ['Value']\n",
    "\n",
    "missing_cat = missing_cat[missing_cat['Value'] > 0]\n",
    "\n",
    "print(missing_cat.index)\n",
    "\n",
    "missing_cat = missing_cat[missing_cat['Value'] > 25]\n",
    "\n",
    "missing_cat = list(missing_cat.index)\n",
    "\n",
    "print(missing_cat)"
   ]
  },
  {
   "cell_type": "code",
   "execution_count": null,
   "id": "89d3cdc4",
   "metadata": {
    "id": "89d3cdc4"
   },
   "outputs": [],
   "source": [
    "#Drop categorical columns with missing values over 25%.\n",
    "\n",
    "data.drop(missing_cat, axis=1, inplace=True)"
   ]
  },
  {
   "cell_type": "code",
   "execution_count": null,
   "id": "680fe385",
   "metadata": {
    "colab": {
     "base_uri": "https://localhost:8080/"
    },
    "executionInfo": {
     "elapsed": 134,
     "status": "ok",
     "timestamp": 1670615128538,
     "user": {
      "displayName": "Mert Karabacak",
      "userId": "14308977132914475412"
     },
     "user_tz": 300
    },
    "id": "680fe385",
    "outputId": "21f1e679-89d7-4353-f298-cc6848be5a29"
   },
   "outputs": [],
   "source": [
    "#Define new categorical columns.\n",
    "\n",
    "cat_cols = [x for x in cat_cols if x not in missing_cat]\n",
    "print(cat_cols)"
   ]
  },
  {
   "cell_type": "code",
   "execution_count": null,
   "id": "9250b986",
   "metadata": {
    "id": "9250b986"
   },
   "outputs": [],
   "source": [
    "#Replace missing categorical values with 'Unknown'.\n",
    "\n",
    "for col in cat_cols:\n",
    "    data[col].fillna(value='Unknown', inplace=True)"
   ]
  },
  {
   "cell_type": "code",
   "execution_count": null,
   "id": "adfd5ff2",
   "metadata": {
    "colab": {
     "base_uri": "https://localhost:8080/"
    },
    "executionInfo": {
     "elapsed": 104,
     "status": "ok",
     "timestamp": 1670615128883,
     "user": {
      "displayName": "Mert Karabacak",
      "userId": "14308977132914475412"
     },
     "user_tz": 300
    },
    "id": "adfd5ff2",
    "outputId": "25a93b00-cc1f-412e-8636-0b4f21a1bafc"
   },
   "outputs": [],
   "source": [
    "#Check missing values after imputation.\n",
    "\n",
    "data[cat_cols].isnull().mean().round(4).mul(100).sort_values(ascending=False)"
   ]
  },
  {
   "cell_type": "code",
   "execution_count": null,
   "id": "2289a865",
   "metadata": {
    "id": "2289a865"
   },
   "outputs": [],
   "source": [
    "#Save imputed data.\n",
    "\n",
    "data.to_csv('/content/drive/MyDrive/NSQIP-ACC/acc_imputed.csv')"
   ]
  },
  {
   "cell_type": "code",
   "execution_count": null,
   "id": "242adba5",
   "metadata": {
    "id": "242adba5"
   },
   "outputs": [],
   "source": [
    "#RobustScale data.\n",
    "\n",
    "data[num_cols] = RobustScaler().fit_transform(data[num_cols])"
   ]
  },
  {
   "cell_type": "code",
   "execution_count": null,
   "id": "4336ba8a",
   "metadata": {
    "id": "4336ba8a"
   },
   "outputs": [],
   "source": [
    "#Normalize data.\n",
    "\n",
    "data[num_cols] = MinMaxScaler().fit_transform(data[num_cols])"
   ]
  },
  {
   "cell_type": "code",
   "execution_count": null,
   "id": "c5490d9b",
   "metadata": {
    "id": "c5490d9b"
   },
   "outputs": [],
   "source": [
    "#Save scaled data.\n",
    "\n",
    "data.to_csv('/content/drive/MyDrive/NSQIP-ACC/acc_scaled.csv')"
   ]
  },
  {
   "cell_type": "code",
   "execution_count": null,
   "id": "dfbec9b0",
   "metadata": {
    "id": "dfbec9b0"
   },
   "outputs": [],
   "source": [
    "#One hot encoding for categorical values.\n",
    "\n",
    "data_final = pd.get_dummies(data, columns = cat_cols, drop_first = True)"
   ]
  },
  {
   "cell_type": "code",
   "execution_count": null,
   "id": "cc12859a",
   "metadata": {
    "id": "cc12859a"
   },
   "outputs": [],
   "source": [
    "#Save final data.\n",
    "\n",
    "data_final.to_csv('/content/drive/MyDrive/NSQIP-ACC/acc_final.csv')"
   ]
  },
  {
   "cell_type": "code",
   "execution_count": null,
   "id": "XQ64_5CMDYqy",
   "metadata": {
    "id": "XQ64_5CMDYqy"
   },
   "outputs": [],
   "source": [
    "#One hot encoding for categorical values.\n",
    "\n",
    "data_gradio = pd.get_dummies(data, columns = cat_cols, drop_first = False)"
   ]
  },
  {
   "cell_type": "code",
   "execution_count": null,
   "id": "cmkFMjbkDdA_",
   "metadata": {
    "id": "cmkFMjbkDdA_"
   },
   "outputs": [],
   "source": [
    "#Save final data.\n",
    "\n",
    "data_gradio.to_csv('/content/drive/MyDrive/NSQIP-ACC/acc_gradio.csv')"
   ]
  }
 ],
 "metadata": {
  "colab": {
   "machine_shape": "hm",
   "provenance": [
    {
     "file_id": "1Nau1T8kYhu_teXcKnDyTzUTVNIRcruHN",
     "timestamp": 1670596165862
    },
    {
     "file_id": "1fRg4CV3EaBnihAqddzIHeCaU4bmkgUi3",
     "timestamp": 1669913930106
    },
    {
     "file_id": "1AXH9JUz2PztvXr-hpN3EzKrUTEbGW2Si",
     "timestamp": 1669306790787
    }
   ]
  },
  "environment": {
   "kernel": "python3",
   "name": "common-cpu.m100",
   "type": "gcloud",
   "uri": "gcr.io/deeplearning-platform-release/base-cpu:m100"
  },
  "gpuClass": "standard",
  "kernelspec": {
   "display_name": "Python 3 (ipykernel)",
   "language": "python",
   "name": "python3"
  },
  "language_info": {
   "codemirror_mode": {
    "name": "ipython",
    "version": 3
   },
   "file_extension": ".py",
   "mimetype": "text/x-python",
   "name": "python",
   "nbconvert_exporter": "python",
   "pygments_lexer": "ipython3",
   "version": "3.9.7"
  }
 },
 "nbformat": 4,
 "nbformat_minor": 5
}
